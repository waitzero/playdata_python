{
 "cells": [
  {
   "cell_type": "markdown",
   "metadata": {
    "id": "gvokZf34zxUN"
   },
   "source": [
    "# pandas - 구조적 데이터 처리를 위한 라이브러리"
   ]
  },
  {
   "cell_type": "code",
   "execution_count": 2,
   "metadata": {},
   "outputs": [
    {
     "name": "stdout",
     "output_type": "stream",
     "text": [
      "Requirement already satisfied: pandas in c:\\workspace_0711\\python\\venv\\lib\\site-packages (1.5.0)\n",
      "Requirement already satisfied: numpy>=1.20.3 in c:\\workspace_0711\\python\\venv\\lib\\site-packages (from pandas) (1.23.3)\n",
      "Requirement already satisfied: python-dateutil>=2.8.1 in c:\\workspace_0711\\python\\venv\\lib\\site-packages (from pandas) (2.8.2)\n",
      "Requirement already satisfied: pytz>=2020.1 in c:\\workspace_0711\\python\\venv\\lib\\site-packages (from pandas) (2022.4)\n",
      "Requirement already satisfied: six>=1.5 in c:\\workspace_0711\\python\\venv\\lib\\site-packages (from python-dateutil>=2.8.1->pandas) (1.16.0)\n"
     ]
    }
   ],
   "source": [
    "!pip install pandas"
   ]
  },
  {
   "cell_type": "code",
   "execution_count": null,
   "metadata": {
    "id": "qwHN_hsBzxUV"
   },
   "outputs": [],
   "source": [
    "import numpy as np\n",
    "import pandas as pd"
   ]
  },
  {
   "cell_type": "markdown",
   "metadata": {
    "id": "mVDEyj1SzxUX"
   },
   "source": [
    "1. 시리즈 생성"
   ]
  },
  {
   "cell_type": "code",
   "execution_count": null,
   "metadata": {
    "id": "s15GN5RuzxUY",
    "outputId": "3243a300-975f-4565-b71e-0b36186ca9f6"
   },
   "outputs": [],
   "source": [
    "s = pd.Series([1, 3, 5, 6, 8])\n",
    "s"
   ]
  },
  {
   "cell_type": "code",
   "execution_count": 8,
   "metadata": {
    "id": "9b4NpiGozxUZ",
    "outputId": "911810e8-403b-418e-d447-5c363ec77054"
   },
   "outputs": [
    {
     "data": {
      "text/plain": [
       "RangeIndex(start=0, stop=5, step=1)"
      ]
     },
     "execution_count": 8,
     "metadata": {},
     "output_type": "execute_result"
    }
   ],
   "source": [
    "s.index"
   ]
  },
  {
   "cell_type": "code",
   "execution_count": null,
   "metadata": {},
   "outputs": [],
   "source": [
    "s.index"
   ]
  },
  {
   "cell_type": "code",
   "execution_count": 9,
   "metadata": {
    "id": "EpeSx5hgzxUa",
    "outputId": "0fd2bdcf-ca2f-47aa-c763-ab53b4d6aa4a"
   },
   "outputs": [
    {
     "data": {
      "text/plain": [
       "array([1, 3, 5, 6, 8], dtype=int64)"
      ]
     },
     "execution_count": 9,
     "metadata": {},
     "output_type": "execute_result"
    }
   ],
   "source": [
    "s.values"
   ]
  },
  {
   "cell_type": "code",
   "execution_count": 10,
   "metadata": {
    "id": "3itNBvV1zxUb",
    "outputId": "c1f5ac00-8062-42a0-c8cd-05049e14244a"
   },
   "outputs": [
    {
     "data": {
      "text/plain": [
       "0    1\n",
       "1    2\n",
       "2    3\n",
       "3    a\n",
       "4    b\n",
       "5    c\n",
       "dtype: object"
      ]
     },
     "execution_count": 10,
     "metadata": {},
     "output_type": "execute_result"
    }
   ],
   "source": [
    "s2 = pd.Series([1,2,3,'a','b','c'])\n",
    "s2"
   ]
  },
  {
   "cell_type": "code",
   "execution_count": 11,
   "metadata": {
    "id": "SBiNTaaLzxUc",
    "outputId": "5cb36255-2aca-4d67-876d-cbe012777d2f"
   },
   "outputs": [
    {
     "data": {
      "text/plain": [
       "name        aaa\n",
       "tel         111\n",
       "addr    asdfasd\n",
       "dtype: object"
      ]
     },
     "execution_count": 11,
     "metadata": {},
     "output_type": "execute_result"
    }
   ],
   "source": [
    "#딕셔너리로 시리즈 생성시 키가 인덱스로 사용됨\n",
    "s3 = pd.Series({'name':'aaa', 'tel':'111', 'addr':'asdfasd'})\n",
    "s3"
   ]
  },
  {
   "cell_type": "code",
   "execution_count": 12,
   "metadata": {
    "id": "NH9HCagmzxUd",
    "outputId": "8d3d915f-fe21-4830-e73f-1bac3cb4dca9"
   },
   "outputs": [
    {
     "data": {
      "text/plain": [
       "kor     65\n",
       "eng     78\n",
       "math    89\n",
       "dtype: int64"
      ]
     },
     "execution_count": 12,
     "metadata": {},
     "output_type": "execute_result"
    }
   ],
   "source": [
    "s4 = pd.Series({'kor':65, 'eng':78, 'math':89})\n",
    "s4"
   ]
  },
  {
   "cell_type": "markdown",
   "metadata": {
    "id": "y99pX8qUzxUe"
   },
   "source": [
    "2. DataFrame 생성  \n",
    "*df = pd.DataFrame(data, [,index, columns])"
   ]
  },
  {
   "cell_type": "code",
   "execution_count": 13,
   "metadata": {
    "id": "2Ya-ptsuzxUf",
    "outputId": "d7a91edb-95bc-4c45-9a48-749c75a1fbb7"
   },
   "outputs": [
    {
     "data": {
      "text/html": [
       "<div>\n",
       "<style scoped>\n",
       "    .dataframe tbody tr th:only-of-type {\n",
       "        vertical-align: middle;\n",
       "    }\n",
       "\n",
       "    .dataframe tbody tr th {\n",
       "        vertical-align: top;\n",
       "    }\n",
       "\n",
       "    .dataframe thead th {\n",
       "        text-align: right;\n",
       "    }\n",
       "</style>\n",
       "<table border=\"1\" class=\"dataframe\">\n",
       "  <thead>\n",
       "    <tr style=\"text-align: right;\">\n",
       "      <th></th>\n",
       "      <th>0</th>\n",
       "      <th>1</th>\n",
       "      <th>2</th>\n",
       "    </tr>\n",
       "  </thead>\n",
       "  <tbody>\n",
       "    <tr>\n",
       "      <th>0</th>\n",
       "      <td>1</td>\n",
       "      <td>2</td>\n",
       "      <td>3</td>\n",
       "    </tr>\n",
       "    <tr>\n",
       "      <th>1</th>\n",
       "      <td>4</td>\n",
       "      <td>5</td>\n",
       "      <td>6</td>\n",
       "    </tr>\n",
       "    <tr>\n",
       "      <th>2</th>\n",
       "      <td>7</td>\n",
       "      <td>8</td>\n",
       "      <td>9</td>\n",
       "    </tr>\n",
       "  </tbody>\n",
       "</table>\n",
       "</div>"
      ],
      "text/plain": [
       "   0  1  2\n",
       "0  1  2  3\n",
       "1  4  5  6\n",
       "2  7  8  9"
      ]
     },
     "execution_count": 13,
     "metadata": {},
     "output_type": "execute_result"
    }
   ],
   "source": [
    "data = [[1,2,3],[4,5,6],[7,8,9]]\n",
    "d1 = pd.DataFrame(data)\n",
    "d1"
   ]
  },
  {
   "cell_type": "code",
   "execution_count": 14,
   "metadata": {
    "id": "qFuScCZBzxUf",
    "outputId": "b5169cbc-7eac-4052-f377-ca7dc88ae6bc"
   },
   "outputs": [
    {
     "data": {
      "text/html": [
       "<div>\n",
       "<style scoped>\n",
       "    .dataframe tbody tr th:only-of-type {\n",
       "        vertical-align: middle;\n",
       "    }\n",
       "\n",
       "    .dataframe tbody tr th {\n",
       "        vertical-align: top;\n",
       "    }\n",
       "\n",
       "    .dataframe thead th {\n",
       "        text-align: right;\n",
       "    }\n",
       "</style>\n",
       "<table border=\"1\" class=\"dataframe\">\n",
       "  <thead>\n",
       "    <tr style=\"text-align: right;\">\n",
       "      <th></th>\n",
       "      <th>col1</th>\n",
       "      <th>col2</th>\n",
       "      <th>col3</th>\n",
       "    </tr>\n",
       "  </thead>\n",
       "  <tbody>\n",
       "    <tr>\n",
       "      <th>row1</th>\n",
       "      <td>1</td>\n",
       "      <td>2</td>\n",
       "      <td>3</td>\n",
       "    </tr>\n",
       "    <tr>\n",
       "      <th>row2</th>\n",
       "      <td>4</td>\n",
       "      <td>5</td>\n",
       "      <td>6</td>\n",
       "    </tr>\n",
       "    <tr>\n",
       "      <th>row3</th>\n",
       "      <td>7</td>\n",
       "      <td>8</td>\n",
       "      <td>9</td>\n",
       "    </tr>\n",
       "  </tbody>\n",
       "</table>\n",
       "</div>"
      ],
      "text/plain": [
       "      col1  col2  col3\n",
       "row1     1     2     3\n",
       "row2     4     5     6\n",
       "row3     7     8     9"
      ]
     },
     "execution_count": 14,
     "metadata": {},
     "output_type": "execute_result"
    }
   ],
   "source": [
    "my_index = ['row1', 'row2', 'row3']\n",
    "my_col = ['col1', 'col2', 'col3']\n",
    "d2 = pd.DataFrame(data, index=my_index, columns=my_col)\n",
    "d2"
   ]
  },
  {
   "cell_type": "code",
   "execution_count": 15,
   "metadata": {
    "id": "GDZzDI8-zxUg",
    "outputId": "51f4b745-3e5f-4e2b-fe58-99c10f09fa8f"
   },
   "outputs": [
    {
     "data": {
      "text/plain": [
       "Index(['row1', 'row2', 'row3'], dtype='object')"
      ]
     },
     "execution_count": 15,
     "metadata": {},
     "output_type": "execute_result"
    }
   ],
   "source": [
    "d2.index"
   ]
  },
  {
   "cell_type": "code",
   "execution_count": 16,
   "metadata": {
    "id": "wt_iYSqGzxUh",
    "outputId": "836c4c15-dd66-4be5-ff3b-9ab7ee7f53c7"
   },
   "outputs": [
    {
     "data": {
      "text/plain": [
       "Index(['col1', 'col2', 'col3'], dtype='object')"
      ]
     },
     "execution_count": 16,
     "metadata": {},
     "output_type": "execute_result"
    }
   ],
   "source": [
    "d2.columns"
   ]
  },
  {
   "cell_type": "code",
   "execution_count": 17,
   "metadata": {
    "id": "BSJlp-IEzxUh",
    "outputId": "556e6eb7-372a-4584-b6b8-8ffdcb317f96"
   },
   "outputs": [
    {
     "data": {
      "text/plain": [
       "array([[1, 2, 3],\n",
       "       [4, 5, 6],\n",
       "       [7, 8, 9]], dtype=int64)"
      ]
     },
     "execution_count": 17,
     "metadata": {},
     "output_type": "execute_result"
    }
   ],
   "source": [
    "d2.values"
   ]
  },
  {
   "cell_type": "markdown",
   "metadata": {
    "id": "jPwp10ZszxUi"
   },
   "source": [
    "3. 데이터 연산"
   ]
  },
  {
   "cell_type": "code",
   "execution_count": 18,
   "metadata": {
    "id": "5lisooqfzxUj",
    "outputId": "f10f0a37-d6a1-4802-e9e3-38762c16b8a5"
   },
   "outputs": [
    {
     "data": {
      "text/plain": [
       "0     6\n",
       "1     8\n",
       "2    10\n",
       "3    12\n",
       "dtype: int64"
      ]
     },
     "execution_count": 18,
     "metadata": {},
     "output_type": "execute_result"
    }
   ],
   "source": [
    "a=pd.Series([1,2,3,4])\n",
    "b=pd.Series([5,6,7,8])\n",
    "a+b"
   ]
  },
  {
   "cell_type": "code",
   "execution_count": 19,
   "metadata": {
    "id": "A7yyxE8azxUj",
    "outputId": "dd499f80-80d0-432c-d6e0-3563bbeddaab"
   },
   "outputs": [
    {
     "data": {
      "text/plain": [
       "0   -4\n",
       "1   -4\n",
       "2   -4\n",
       "3   -4\n",
       "dtype: int64"
      ]
     },
     "execution_count": 19,
     "metadata": {},
     "output_type": "execute_result"
    }
   ],
   "source": [
    "a-b"
   ]
  },
  {
   "cell_type": "code",
   "execution_count": 20,
   "metadata": {
    "id": "Foi8EGC_zxUk",
    "outputId": "9599c9e0-de82-4720-fdd4-8c967c87f176"
   },
   "outputs": [
    {
     "data": {
      "text/plain": [
       "0     5\n",
       "1    12\n",
       "2    21\n",
       "3    32\n",
       "dtype: int64"
      ]
     },
     "execution_count": 20,
     "metadata": {},
     "output_type": "execute_result"
    }
   ],
   "source": [
    "a*b"
   ]
  },
  {
   "cell_type": "code",
   "execution_count": 21,
   "metadata": {
    "id": "_R_vJIK-zxUk",
    "outputId": "9cfecc94-ecc8-4060-a63a-f19c626cee16"
   },
   "outputs": [
    {
     "data": {
      "text/plain": [
       "0    5.000000\n",
       "1    3.000000\n",
       "2    2.333333\n",
       "3    2.000000\n",
       "dtype: float64"
      ]
     },
     "execution_count": 21,
     "metadata": {},
     "output_type": "execute_result"
    }
   ],
   "source": [
    "b/a"
   ]
  },
  {
   "cell_type": "code",
   "execution_count": 22,
   "metadata": {
    "id": "vsilb6tEzxUl",
    "outputId": "d6f20244-de4b-4344-9994-cbf2d40ee3a2"
   },
   "outputs": [
    {
     "data": {
      "text/plain": [
       "0     6.0\n",
       "1     8.0\n",
       "2    10.0\n",
       "3     NaN\n",
       "dtype: float64"
      ]
     },
     "execution_count": 22,
     "metadata": {},
     "output_type": "execute_result"
    }
   ],
   "source": [
    "a=pd.Series([1,2,3])\n",
    "b=pd.Series([5,6,7,8])\n",
    "a+b"
   ]
  },
  {
   "cell_type": "code",
   "execution_count": 23,
   "metadata": {
    "id": "6Gk544y8zxUn",
    "outputId": "255ace1f-a79d-42c3-bb11-63ff6ac668c0"
   },
   "outputs": [
    {
     "data": {
      "text/html": [
       "<div>\n",
       "<style scoped>\n",
       "    .dataframe tbody tr th:only-of-type {\n",
       "        vertical-align: middle;\n",
       "    }\n",
       "\n",
       "    .dataframe tbody tr th {\n",
       "        vertical-align: top;\n",
       "    }\n",
       "\n",
       "    .dataframe thead th {\n",
       "        text-align: right;\n",
       "    }\n",
       "</style>\n",
       "<table border=\"1\" class=\"dataframe\">\n",
       "  <thead>\n",
       "    <tr style=\"text-align: right;\">\n",
       "      <th></th>\n",
       "      <th>A</th>\n",
       "      <th>B</th>\n",
       "      <th>C</th>\n",
       "    </tr>\n",
       "  </thead>\n",
       "  <tbody>\n",
       "    <tr>\n",
       "      <th>0</th>\n",
       "      <td>1</td>\n",
       "      <td>4</td>\n",
       "      <td>7</td>\n",
       "    </tr>\n",
       "    <tr>\n",
       "      <th>1</th>\n",
       "      <td>2</td>\n",
       "      <td>5</td>\n",
       "      <td>8</td>\n",
       "    </tr>\n",
       "    <tr>\n",
       "      <th>2</th>\n",
       "      <td>3</td>\n",
       "      <td>6</td>\n",
       "      <td>9</td>\n",
       "    </tr>\n",
       "  </tbody>\n",
       "</table>\n",
       "</div>"
      ],
      "text/plain": [
       "   A  B  C\n",
       "0  1  4  7\n",
       "1  2  5  8\n",
       "2  3  6  9"
      ]
     },
     "execution_count": 23,
     "metadata": {},
     "output_type": "execute_result"
    }
   ],
   "source": [
    "d1 = pd.DataFrame({'A':[1,2,3], 'B':[4,5,6], 'C':[7,8,9]})\n",
    "d1"
   ]
  },
  {
   "cell_type": "code",
   "execution_count": 24,
   "metadata": {
    "id": "zDA21T1lzxUn",
    "outputId": "58fc07c5-b1d8-4df7-b1dc-4041dd2666cf"
   },
   "outputs": [
    {
     "data": {
      "text/html": [
       "<div>\n",
       "<style scoped>\n",
       "    .dataframe tbody tr th:only-of-type {\n",
       "        vertical-align: middle;\n",
       "    }\n",
       "\n",
       "    .dataframe tbody tr th {\n",
       "        vertical-align: top;\n",
       "    }\n",
       "\n",
       "    .dataframe thead th {\n",
       "        text-align: right;\n",
       "    }\n",
       "</style>\n",
       "<table border=\"1\" class=\"dataframe\">\n",
       "  <thead>\n",
       "    <tr style=\"text-align: right;\">\n",
       "      <th></th>\n",
       "      <th>A</th>\n",
       "      <th>B</th>\n",
       "      <th>C</th>\n",
       "    </tr>\n",
       "  </thead>\n",
       "  <tbody>\n",
       "    <tr>\n",
       "      <th>0</th>\n",
       "      <td>11</td>\n",
       "      <td>33</td>\n",
       "      <td>55</td>\n",
       "    </tr>\n",
       "    <tr>\n",
       "      <th>1</th>\n",
       "      <td>22</td>\n",
       "      <td>44</td>\n",
       "      <td>66</td>\n",
       "    </tr>\n",
       "  </tbody>\n",
       "</table>\n",
       "</div>"
      ],
      "text/plain": [
       "    A   B   C\n",
       "0  11  33  55\n",
       "1  22  44  66"
      ]
     },
     "execution_count": 24,
     "metadata": {},
     "output_type": "execute_result"
    }
   ],
   "source": [
    "d2 = pd.DataFrame({'A':[11,22], 'B':[33,44], 'C':[55,66]})\n",
    "d2"
   ]
  },
  {
   "cell_type": "code",
   "execution_count": 25,
   "metadata": {
    "id": "YdnPATzqzxUo",
    "outputId": "d50ef18a-1250-411f-a230-ef7722fe2413"
   },
   "outputs": [
    {
     "data": {
      "text/html": [
       "<div>\n",
       "<style scoped>\n",
       "    .dataframe tbody tr th:only-of-type {\n",
       "        vertical-align: middle;\n",
       "    }\n",
       "\n",
       "    .dataframe tbody tr th {\n",
       "        vertical-align: top;\n",
       "    }\n",
       "\n",
       "    .dataframe thead th {\n",
       "        text-align: right;\n",
       "    }\n",
       "</style>\n",
       "<table border=\"1\" class=\"dataframe\">\n",
       "  <thead>\n",
       "    <tr style=\"text-align: right;\">\n",
       "      <th></th>\n",
       "      <th>A</th>\n",
       "      <th>B</th>\n",
       "      <th>C</th>\n",
       "    </tr>\n",
       "  </thead>\n",
       "  <tbody>\n",
       "    <tr>\n",
       "      <th>0</th>\n",
       "      <td>12.0</td>\n",
       "      <td>37.0</td>\n",
       "      <td>62.0</td>\n",
       "    </tr>\n",
       "    <tr>\n",
       "      <th>1</th>\n",
       "      <td>24.0</td>\n",
       "      <td>49.0</td>\n",
       "      <td>74.0</td>\n",
       "    </tr>\n",
       "    <tr>\n",
       "      <th>2</th>\n",
       "      <td>NaN</td>\n",
       "      <td>NaN</td>\n",
       "      <td>NaN</td>\n",
       "    </tr>\n",
       "  </tbody>\n",
       "</table>\n",
       "</div>"
      ],
      "text/plain": [
       "      A     B     C\n",
       "0  12.0  37.0  62.0\n",
       "1  24.0  49.0  74.0\n",
       "2   NaN   NaN   NaN"
      ]
     },
     "execution_count": 25,
     "metadata": {},
     "output_type": "execute_result"
    }
   ],
   "source": [
    "d1+d2"
   ]
  },
  {
   "cell_type": "code",
   "execution_count": 26,
   "metadata": {
    "id": "kQ7RpXRfzxUo",
    "outputId": "162ceea9-966c-463a-942b-d31275a288d6"
   },
   "outputs": [
    {
     "data": {
      "text/html": [
       "<div>\n",
       "<style scoped>\n",
       "    .dataframe tbody tr th:only-of-type {\n",
       "        vertical-align: middle;\n",
       "    }\n",
       "\n",
       "    .dataframe tbody tr th {\n",
       "        vertical-align: top;\n",
       "    }\n",
       "\n",
       "    .dataframe thead th {\n",
       "        text-align: right;\n",
       "    }\n",
       "</style>\n",
       "<table border=\"1\" class=\"dataframe\">\n",
       "  <thead>\n",
       "    <tr style=\"text-align: right;\">\n",
       "      <th></th>\n",
       "      <th>국어</th>\n",
       "      <th>영어</th>\n",
       "      <th>수학</th>\n",
       "      <th>사회</th>\n",
       "      <th>과학</th>\n",
       "    </tr>\n",
       "  </thead>\n",
       "  <tbody>\n",
       "    <tr>\n",
       "      <th>aaa</th>\n",
       "      <td>54</td>\n",
       "      <td>67</td>\n",
       "      <td>98</td>\n",
       "      <td>98</td>\n",
       "      <td>89</td>\n",
       "    </tr>\n",
       "    <tr>\n",
       "      <th>bbb</th>\n",
       "      <td>65</td>\n",
       "      <td>56</td>\n",
       "      <td>78</td>\n",
       "      <td>76</td>\n",
       "      <td>97</td>\n",
       "    </tr>\n",
       "    <tr>\n",
       "      <th>ccc</th>\n",
       "      <td>76</td>\n",
       "      <td>45</td>\n",
       "      <td>76</td>\n",
       "      <td>45</td>\n",
       "      <td>56</td>\n",
       "    </tr>\n",
       "  </tbody>\n",
       "</table>\n",
       "</div>"
      ],
      "text/plain": [
       "     국어  영어  수학  사회  과학\n",
       "aaa  54  67  98  98  89\n",
       "bbb  65  56  78  76  97\n",
       "ccc  76  45  76  45  56"
      ]
     },
     "execution_count": 26,
     "metadata": {},
     "output_type": "execute_result"
    }
   ],
   "source": [
    "names = ['aaa', 'bbb', 'ccc']\n",
    "d = {'국어':[54,65,76], '영어':[67,56,45], '수학':[98,78,76], '사회':[98,76,45], '과학':[89,97,56]}\n",
    "d3 = pd.DataFrame(d, index=names)\n",
    "d3"
   ]
  },
  {
   "cell_type": "markdown",
   "metadata": {
    "id": "1awR4eNXzxUp"
   },
   "source": [
    "4. 통계함수  \n",
    "sum():합  \n",
    "mean(): 평균  \n",
    "std(): 표준 편차  \n",
    "var(): 분산  \n",
    "min(): 최소값  \n",
    "max(): 최대값  \n",
    "cumsum(): 누적합  \n",
    "cumprod(): 누적곱"
   ]
  },
  {
   "cell_type": "code",
   "execution_count": 27,
   "metadata": {
    "id": "H3jHMgtXzxUp",
    "outputId": "ea963307-15e0-4585-e405-be4f2bd300e6"
   },
   "outputs": [
    {
     "data": {
      "text/plain": [
       "국어    195\n",
       "영어    168\n",
       "수학    252\n",
       "사회    219\n",
       "과학    242\n",
       "dtype: int64"
      ]
     },
     "execution_count": 27,
     "metadata": {},
     "output_type": "execute_result"
    }
   ],
   "source": [
    "d3.sum()"
   ]
  },
  {
   "cell_type": "code",
   "execution_count": 28,
   "metadata": {
    "id": "50ChbPTEzxUp",
    "outputId": "7137d780-f052-4058-b0c6-65581249226c"
   },
   "outputs": [
    {
     "data": {
      "text/plain": [
       "국어    65.000000\n",
       "영어    56.000000\n",
       "수학    84.000000\n",
       "사회    73.000000\n",
       "과학    80.666667\n",
       "dtype: float64"
      ]
     },
     "execution_count": 28,
     "metadata": {},
     "output_type": "execute_result"
    }
   ],
   "source": [
    "d3.mean()  #컬럼별 평균"
   ]
  },
  {
   "cell_type": "code",
   "execution_count": 29,
   "metadata": {
    "id": "I27pX3_ezxUq",
    "outputId": "bc0a455b-f02a-464f-9afc-737da0b320d9"
   },
   "outputs": [
    {
     "data": {
      "text/plain": [
       "aaa    81.2\n",
       "bbb    74.4\n",
       "ccc    59.6\n",
       "dtype: float64"
      ]
     },
     "execution_count": 29,
     "metadata": {},
     "output_type": "execute_result"
    }
   ],
   "source": [
    "d3.mean(axis=1) #행별로 평균"
   ]
  },
  {
   "cell_type": "code",
   "execution_count": 30,
   "metadata": {
    "id": "NIA7CGhRzxUq",
    "outputId": "083a55f7-1853-4ea0-a1fd-4aed25cf07cb"
   },
   "outputs": [
    {
     "data": {
      "text/html": [
       "<div>\n",
       "<style scoped>\n",
       "    .dataframe tbody tr th:only-of-type {\n",
       "        vertical-align: middle;\n",
       "    }\n",
       "\n",
       "    .dataframe tbody tr th {\n",
       "        vertical-align: top;\n",
       "    }\n",
       "\n",
       "    .dataframe thead th {\n",
       "        text-align: right;\n",
       "    }\n",
       "</style>\n",
       "<table border=\"1\" class=\"dataframe\">\n",
       "  <thead>\n",
       "    <tr style=\"text-align: right;\">\n",
       "      <th></th>\n",
       "      <th>국어</th>\n",
       "      <th>영어</th>\n",
       "      <th>수학</th>\n",
       "      <th>사회</th>\n",
       "      <th>과학</th>\n",
       "    </tr>\n",
       "  </thead>\n",
       "  <tbody>\n",
       "    <tr>\n",
       "      <th>count</th>\n",
       "      <td>3.0</td>\n",
       "      <td>3.0</td>\n",
       "      <td>3.000000</td>\n",
       "      <td>3.000000</td>\n",
       "      <td>3.000000</td>\n",
       "    </tr>\n",
       "    <tr>\n",
       "      <th>mean</th>\n",
       "      <td>65.0</td>\n",
       "      <td>56.0</td>\n",
       "      <td>84.000000</td>\n",
       "      <td>73.000000</td>\n",
       "      <td>80.666667</td>\n",
       "    </tr>\n",
       "    <tr>\n",
       "      <th>std</th>\n",
       "      <td>11.0</td>\n",
       "      <td>11.0</td>\n",
       "      <td>12.165525</td>\n",
       "      <td>26.627054</td>\n",
       "      <td>21.733231</td>\n",
       "    </tr>\n",
       "    <tr>\n",
       "      <th>min</th>\n",
       "      <td>54.0</td>\n",
       "      <td>45.0</td>\n",
       "      <td>76.000000</td>\n",
       "      <td>45.000000</td>\n",
       "      <td>56.000000</td>\n",
       "    </tr>\n",
       "    <tr>\n",
       "      <th>25%</th>\n",
       "      <td>59.5</td>\n",
       "      <td>50.5</td>\n",
       "      <td>77.000000</td>\n",
       "      <td>60.500000</td>\n",
       "      <td>72.500000</td>\n",
       "    </tr>\n",
       "    <tr>\n",
       "      <th>50%</th>\n",
       "      <td>65.0</td>\n",
       "      <td>56.0</td>\n",
       "      <td>78.000000</td>\n",
       "      <td>76.000000</td>\n",
       "      <td>89.000000</td>\n",
       "    </tr>\n",
       "    <tr>\n",
       "      <th>75%</th>\n",
       "      <td>70.5</td>\n",
       "      <td>61.5</td>\n",
       "      <td>88.000000</td>\n",
       "      <td>87.000000</td>\n",
       "      <td>93.000000</td>\n",
       "    </tr>\n",
       "    <tr>\n",
       "      <th>max</th>\n",
       "      <td>76.0</td>\n",
       "      <td>67.0</td>\n",
       "      <td>98.000000</td>\n",
       "      <td>98.000000</td>\n",
       "      <td>97.000000</td>\n",
       "    </tr>\n",
       "  </tbody>\n",
       "</table>\n",
       "</div>"
      ],
      "text/plain": [
       "         국어    영어         수학         사회         과학\n",
       "count   3.0   3.0   3.000000   3.000000   3.000000\n",
       "mean   65.0  56.0  84.000000  73.000000  80.666667\n",
       "std    11.0  11.0  12.165525  26.627054  21.733231\n",
       "min    54.0  45.0  76.000000  45.000000  56.000000\n",
       "25%    59.5  50.5  77.000000  60.500000  72.500000\n",
       "50%    65.0  56.0  78.000000  76.000000  89.000000\n",
       "75%    70.5  61.5  88.000000  87.000000  93.000000\n",
       "max    76.0  67.0  98.000000  98.000000  97.000000"
      ]
     },
     "execution_count": 30,
     "metadata": {},
     "output_type": "execute_result"
    }
   ],
   "source": [
    "d3.describe()"
   ]
  },
  {
   "cell_type": "markdown",
   "metadata": {
    "id": "8J3jjEZnzxUq"
   },
   "source": [
    "5. 요소 추출  \n",
    "head(n): 위에서 n줄 추출  \n",
    "tail(n): 아래에서 n줄 추출"
   ]
  },
  {
   "cell_type": "code",
   "execution_count": 31,
   "metadata": {
    "id": "Nv6Y-CpIzxUr",
    "outputId": "869d8a41-b661-4626-fc12-b1e9034677dd"
   },
   "outputs": [
    {
     "data": {
      "text/html": [
       "<div>\n",
       "<style scoped>\n",
       "    .dataframe tbody tr th:only-of-type {\n",
       "        vertical-align: middle;\n",
       "    }\n",
       "\n",
       "    .dataframe tbody tr th {\n",
       "        vertical-align: top;\n",
       "    }\n",
       "\n",
       "    .dataframe thead th {\n",
       "        text-align: right;\n",
       "    }\n",
       "</style>\n",
       "<table border=\"1\" class=\"dataframe\">\n",
       "  <thead>\n",
       "    <tr style=\"text-align: right;\">\n",
       "      <th></th>\n",
       "      <th>0</th>\n",
       "      <th>1</th>\n",
       "      <th>2</th>\n",
       "      <th>3</th>\n",
       "      <th>4</th>\n",
       "      <th>5</th>\n",
       "      <th>6</th>\n",
       "      <th>7</th>\n",
       "      <th>8</th>\n",
       "      <th>9</th>\n",
       "    </tr>\n",
       "  </thead>\n",
       "  <tbody>\n",
       "    <tr>\n",
       "      <th>0</th>\n",
       "      <td>0</td>\n",
       "      <td>1</td>\n",
       "      <td>2</td>\n",
       "      <td>3</td>\n",
       "      <td>4</td>\n",
       "      <td>5</td>\n",
       "      <td>6</td>\n",
       "      <td>7</td>\n",
       "      <td>8</td>\n",
       "      <td>9</td>\n",
       "    </tr>\n",
       "    <tr>\n",
       "      <th>1</th>\n",
       "      <td>10</td>\n",
       "      <td>11</td>\n",
       "      <td>12</td>\n",
       "      <td>13</td>\n",
       "      <td>14</td>\n",
       "      <td>15</td>\n",
       "      <td>16</td>\n",
       "      <td>17</td>\n",
       "      <td>18</td>\n",
       "      <td>19</td>\n",
       "    </tr>\n",
       "    <tr>\n",
       "      <th>2</th>\n",
       "      <td>20</td>\n",
       "      <td>21</td>\n",
       "      <td>22</td>\n",
       "      <td>23</td>\n",
       "      <td>24</td>\n",
       "      <td>25</td>\n",
       "      <td>26</td>\n",
       "      <td>27</td>\n",
       "      <td>28</td>\n",
       "      <td>29</td>\n",
       "    </tr>\n",
       "    <tr>\n",
       "      <th>3</th>\n",
       "      <td>30</td>\n",
       "      <td>31</td>\n",
       "      <td>32</td>\n",
       "      <td>33</td>\n",
       "      <td>34</td>\n",
       "      <td>35</td>\n",
       "      <td>36</td>\n",
       "      <td>37</td>\n",
       "      <td>38</td>\n",
       "      <td>39</td>\n",
       "    </tr>\n",
       "    <tr>\n",
       "      <th>4</th>\n",
       "      <td>40</td>\n",
       "      <td>41</td>\n",
       "      <td>42</td>\n",
       "      <td>43</td>\n",
       "      <td>44</td>\n",
       "      <td>45</td>\n",
       "      <td>46</td>\n",
       "      <td>47</td>\n",
       "      <td>48</td>\n",
       "      <td>49</td>\n",
       "    </tr>\n",
       "    <tr>\n",
       "      <th>5</th>\n",
       "      <td>50</td>\n",
       "      <td>51</td>\n",
       "      <td>52</td>\n",
       "      <td>53</td>\n",
       "      <td>54</td>\n",
       "      <td>55</td>\n",
       "      <td>56</td>\n",
       "      <td>57</td>\n",
       "      <td>58</td>\n",
       "      <td>59</td>\n",
       "    </tr>\n",
       "    <tr>\n",
       "      <th>6</th>\n",
       "      <td>60</td>\n",
       "      <td>61</td>\n",
       "      <td>62</td>\n",
       "      <td>63</td>\n",
       "      <td>64</td>\n",
       "      <td>65</td>\n",
       "      <td>66</td>\n",
       "      <td>67</td>\n",
       "      <td>68</td>\n",
       "      <td>69</td>\n",
       "    </tr>\n",
       "    <tr>\n",
       "      <th>7</th>\n",
       "      <td>70</td>\n",
       "      <td>71</td>\n",
       "      <td>72</td>\n",
       "      <td>73</td>\n",
       "      <td>74</td>\n",
       "      <td>75</td>\n",
       "      <td>76</td>\n",
       "      <td>77</td>\n",
       "      <td>78</td>\n",
       "      <td>79</td>\n",
       "    </tr>\n",
       "    <tr>\n",
       "      <th>8</th>\n",
       "      <td>80</td>\n",
       "      <td>81</td>\n",
       "      <td>82</td>\n",
       "      <td>83</td>\n",
       "      <td>84</td>\n",
       "      <td>85</td>\n",
       "      <td>86</td>\n",
       "      <td>87</td>\n",
       "      <td>88</td>\n",
       "      <td>89</td>\n",
       "    </tr>\n",
       "    <tr>\n",
       "      <th>9</th>\n",
       "      <td>90</td>\n",
       "      <td>91</td>\n",
       "      <td>92</td>\n",
       "      <td>93</td>\n",
       "      <td>94</td>\n",
       "      <td>95</td>\n",
       "      <td>96</td>\n",
       "      <td>97</td>\n",
       "      <td>98</td>\n",
       "      <td>99</td>\n",
       "    </tr>\n",
       "  </tbody>\n",
       "</table>\n",
       "</div>"
      ],
      "text/plain": [
       "    0   1   2   3   4   5   6   7   8   9\n",
       "0   0   1   2   3   4   5   6   7   8   9\n",
       "1  10  11  12  13  14  15  16  17  18  19\n",
       "2  20  21  22  23  24  25  26  27  28  29\n",
       "3  30  31  32  33  34  35  36  37  38  39\n",
       "4  40  41  42  43  44  45  46  47  48  49\n",
       "5  50  51  52  53  54  55  56  57  58  59\n",
       "6  60  61  62  63  64  65  66  67  68  69\n",
       "7  70  71  72  73  74  75  76  77  78  79\n",
       "8  80  81  82  83  84  85  86  87  88  89\n",
       "9  90  91  92  93  94  95  96  97  98  99"
      ]
     },
     "execution_count": 31,
     "metadata": {},
     "output_type": "execute_result"
    }
   ],
   "source": [
    "d = np.arange(100).reshape(10,10)\n",
    "d2 = pd.DataFrame(d)\n",
    "d2"
   ]
  },
  {
   "cell_type": "code",
   "execution_count": 32,
   "metadata": {
    "id": "X0gK4RDwzxUr",
    "outputId": "77341f8b-34f4-4698-dfeb-7018787a8480"
   },
   "outputs": [
    {
     "data": {
      "text/html": [
       "<div>\n",
       "<style scoped>\n",
       "    .dataframe tbody tr th:only-of-type {\n",
       "        vertical-align: middle;\n",
       "    }\n",
       "\n",
       "    .dataframe tbody tr th {\n",
       "        vertical-align: top;\n",
       "    }\n",
       "\n",
       "    .dataframe thead th {\n",
       "        text-align: right;\n",
       "    }\n",
       "</style>\n",
       "<table border=\"1\" class=\"dataframe\">\n",
       "  <thead>\n",
       "    <tr style=\"text-align: right;\">\n",
       "      <th></th>\n",
       "      <th>0</th>\n",
       "      <th>1</th>\n",
       "      <th>2</th>\n",
       "      <th>3</th>\n",
       "      <th>4</th>\n",
       "      <th>5</th>\n",
       "      <th>6</th>\n",
       "      <th>7</th>\n",
       "      <th>8</th>\n",
       "      <th>9</th>\n",
       "    </tr>\n",
       "  </thead>\n",
       "  <tbody>\n",
       "    <tr>\n",
       "      <th>0</th>\n",
       "      <td>0</td>\n",
       "      <td>1</td>\n",
       "      <td>2</td>\n",
       "      <td>3</td>\n",
       "      <td>4</td>\n",
       "      <td>5</td>\n",
       "      <td>6</td>\n",
       "      <td>7</td>\n",
       "      <td>8</td>\n",
       "      <td>9</td>\n",
       "    </tr>\n",
       "    <tr>\n",
       "      <th>1</th>\n",
       "      <td>10</td>\n",
       "      <td>11</td>\n",
       "      <td>12</td>\n",
       "      <td>13</td>\n",
       "      <td>14</td>\n",
       "      <td>15</td>\n",
       "      <td>16</td>\n",
       "      <td>17</td>\n",
       "      <td>18</td>\n",
       "      <td>19</td>\n",
       "    </tr>\n",
       "    <tr>\n",
       "      <th>2</th>\n",
       "      <td>20</td>\n",
       "      <td>21</td>\n",
       "      <td>22</td>\n",
       "      <td>23</td>\n",
       "      <td>24</td>\n",
       "      <td>25</td>\n",
       "      <td>26</td>\n",
       "      <td>27</td>\n",
       "      <td>28</td>\n",
       "      <td>29</td>\n",
       "    </tr>\n",
       "    <tr>\n",
       "      <th>3</th>\n",
       "      <td>30</td>\n",
       "      <td>31</td>\n",
       "      <td>32</td>\n",
       "      <td>33</td>\n",
       "      <td>34</td>\n",
       "      <td>35</td>\n",
       "      <td>36</td>\n",
       "      <td>37</td>\n",
       "      <td>38</td>\n",
       "      <td>39</td>\n",
       "    </tr>\n",
       "    <tr>\n",
       "      <th>4</th>\n",
       "      <td>40</td>\n",
       "      <td>41</td>\n",
       "      <td>42</td>\n",
       "      <td>43</td>\n",
       "      <td>44</td>\n",
       "      <td>45</td>\n",
       "      <td>46</td>\n",
       "      <td>47</td>\n",
       "      <td>48</td>\n",
       "      <td>49</td>\n",
       "    </tr>\n",
       "  </tbody>\n",
       "</table>\n",
       "</div>"
      ],
      "text/plain": [
       "    0   1   2   3   4   5   6   7   8   9\n",
       "0   0   1   2   3   4   5   6   7   8   9\n",
       "1  10  11  12  13  14  15  16  17  18  19\n",
       "2  20  21  22  23  24  25  26  27  28  29\n",
       "3  30  31  32  33  34  35  36  37  38  39\n",
       "4  40  41  42  43  44  45  46  47  48  49"
      ]
     },
     "execution_count": 32,
     "metadata": {},
     "output_type": "execute_result"
    }
   ],
   "source": [
    "d2.head(5)#기본이 5줄0~4"
   ]
  },
  {
   "cell_type": "code",
   "execution_count": 33,
   "metadata": {
    "id": "A9kV-0edzxUr",
    "outputId": "86b30dbc-219f-481f-ba8d-1f4d245a68e3"
   },
   "outputs": [
    {
     "data": {
      "text/html": [
       "<div>\n",
       "<style scoped>\n",
       "    .dataframe tbody tr th:only-of-type {\n",
       "        vertical-align: middle;\n",
       "    }\n",
       "\n",
       "    .dataframe tbody tr th {\n",
       "        vertical-align: top;\n",
       "    }\n",
       "\n",
       "    .dataframe thead th {\n",
       "        text-align: right;\n",
       "    }\n",
       "</style>\n",
       "<table border=\"1\" class=\"dataframe\">\n",
       "  <thead>\n",
       "    <tr style=\"text-align: right;\">\n",
       "      <th></th>\n",
       "      <th>0</th>\n",
       "      <th>1</th>\n",
       "      <th>2</th>\n",
       "      <th>3</th>\n",
       "      <th>4</th>\n",
       "      <th>5</th>\n",
       "      <th>6</th>\n",
       "      <th>7</th>\n",
       "      <th>8</th>\n",
       "      <th>9</th>\n",
       "    </tr>\n",
       "  </thead>\n",
       "  <tbody>\n",
       "    <tr>\n",
       "      <th>0</th>\n",
       "      <td>0</td>\n",
       "      <td>1</td>\n",
       "      <td>2</td>\n",
       "      <td>3</td>\n",
       "      <td>4</td>\n",
       "      <td>5</td>\n",
       "      <td>6</td>\n",
       "      <td>7</td>\n",
       "      <td>8</td>\n",
       "      <td>9</td>\n",
       "    </tr>\n",
       "    <tr>\n",
       "      <th>1</th>\n",
       "      <td>10</td>\n",
       "      <td>11</td>\n",
       "      <td>12</td>\n",
       "      <td>13</td>\n",
       "      <td>14</td>\n",
       "      <td>15</td>\n",
       "      <td>16</td>\n",
       "      <td>17</td>\n",
       "      <td>18</td>\n",
       "      <td>19</td>\n",
       "    </tr>\n",
       "    <tr>\n",
       "      <th>2</th>\n",
       "      <td>20</td>\n",
       "      <td>21</td>\n",
       "      <td>22</td>\n",
       "      <td>23</td>\n",
       "      <td>24</td>\n",
       "      <td>25</td>\n",
       "      <td>26</td>\n",
       "      <td>27</td>\n",
       "      <td>28</td>\n",
       "      <td>29</td>\n",
       "    </tr>\n",
       "  </tbody>\n",
       "</table>\n",
       "</div>"
      ],
      "text/plain": [
       "    0   1   2   3   4   5   6   7   8   9\n",
       "0   0   1   2   3   4   5   6   7   8   9\n",
       "1  10  11  12  13  14  15  16  17  18  19\n",
       "2  20  21  22  23  24  25  26  27  28  29"
      ]
     },
     "execution_count": 33,
     "metadata": {},
     "output_type": "execute_result"
    }
   ],
   "source": [
    "d2.head(3)"
   ]
  },
  {
   "cell_type": "code",
   "execution_count": 36,
   "metadata": {
    "id": "XvJ74ONJzxUs",
    "outputId": "a136509f-e7d5-436a-9ac9-6573a00ef73c"
   },
   "outputs": [
    {
     "data": {
      "text/html": [
       "<div>\n",
       "<style scoped>\n",
       "    .dataframe tbody tr th:only-of-type {\n",
       "        vertical-align: middle;\n",
       "    }\n",
       "\n",
       "    .dataframe tbody tr th {\n",
       "        vertical-align: top;\n",
       "    }\n",
       "\n",
       "    .dataframe thead th {\n",
       "        text-align: right;\n",
       "    }\n",
       "</style>\n",
       "<table border=\"1\" class=\"dataframe\">\n",
       "  <thead>\n",
       "    <tr style=\"text-align: right;\">\n",
       "      <th></th>\n",
       "      <th>0</th>\n",
       "      <th>1</th>\n",
       "      <th>2</th>\n",
       "      <th>3</th>\n",
       "      <th>4</th>\n",
       "      <th>5</th>\n",
       "      <th>6</th>\n",
       "      <th>7</th>\n",
       "      <th>8</th>\n",
       "      <th>9</th>\n",
       "    </tr>\n",
       "  </thead>\n",
       "  <tbody>\n",
       "    <tr>\n",
       "      <th>5</th>\n",
       "      <td>50</td>\n",
       "      <td>51</td>\n",
       "      <td>52</td>\n",
       "      <td>53</td>\n",
       "      <td>54</td>\n",
       "      <td>55</td>\n",
       "      <td>56</td>\n",
       "      <td>57</td>\n",
       "      <td>58</td>\n",
       "      <td>59</td>\n",
       "    </tr>\n",
       "    <tr>\n",
       "      <th>6</th>\n",
       "      <td>60</td>\n",
       "      <td>61</td>\n",
       "      <td>62</td>\n",
       "      <td>63</td>\n",
       "      <td>64</td>\n",
       "      <td>65</td>\n",
       "      <td>66</td>\n",
       "      <td>67</td>\n",
       "      <td>68</td>\n",
       "      <td>69</td>\n",
       "    </tr>\n",
       "    <tr>\n",
       "      <th>7</th>\n",
       "      <td>70</td>\n",
       "      <td>71</td>\n",
       "      <td>72</td>\n",
       "      <td>73</td>\n",
       "      <td>74</td>\n",
       "      <td>75</td>\n",
       "      <td>76</td>\n",
       "      <td>77</td>\n",
       "      <td>78</td>\n",
       "      <td>79</td>\n",
       "    </tr>\n",
       "    <tr>\n",
       "      <th>8</th>\n",
       "      <td>80</td>\n",
       "      <td>81</td>\n",
       "      <td>82</td>\n",
       "      <td>83</td>\n",
       "      <td>84</td>\n",
       "      <td>85</td>\n",
       "      <td>86</td>\n",
       "      <td>87</td>\n",
       "      <td>88</td>\n",
       "      <td>89</td>\n",
       "    </tr>\n",
       "    <tr>\n",
       "      <th>9</th>\n",
       "      <td>90</td>\n",
       "      <td>91</td>\n",
       "      <td>92</td>\n",
       "      <td>93</td>\n",
       "      <td>94</td>\n",
       "      <td>95</td>\n",
       "      <td>96</td>\n",
       "      <td>97</td>\n",
       "      <td>98</td>\n",
       "      <td>99</td>\n",
       "    </tr>\n",
       "  </tbody>\n",
       "</table>\n",
       "</div>"
      ],
      "text/plain": [
       "    0   1   2   3   4   5   6   7   8   9\n",
       "5  50  51  52  53  54  55  56  57  58  59\n",
       "6  60  61  62  63  64  65  66  67  68  69\n",
       "7  70  71  72  73  74  75  76  77  78  79\n",
       "8  80  81  82  83  84  85  86  87  88  89\n",
       "9  90  91  92  93  94  95  96  97  98  99"
      ]
     },
     "execution_count": 36,
     "metadata": {},
     "output_type": "execute_result"
    }
   ],
   "source": [
    "d2.tail()#역순 기본이 5줄"
   ]
  },
  {
   "cell_type": "code",
   "execution_count": 37,
   "metadata": {
    "id": "BneCuOp8zxUs",
    "outputId": "f6649cd9-a9c9-4849-ec59-bfe6fb8d70f6"
   },
   "outputs": [
    {
     "data": {
      "text/html": [
       "<div>\n",
       "<style scoped>\n",
       "    .dataframe tbody tr th:only-of-type {\n",
       "        vertical-align: middle;\n",
       "    }\n",
       "\n",
       "    .dataframe tbody tr th {\n",
       "        vertical-align: top;\n",
       "    }\n",
       "\n",
       "    .dataframe thead th {\n",
       "        text-align: right;\n",
       "    }\n",
       "</style>\n",
       "<table border=\"1\" class=\"dataframe\">\n",
       "  <thead>\n",
       "    <tr style=\"text-align: right;\">\n",
       "      <th></th>\n",
       "      <th>0</th>\n",
       "      <th>1</th>\n",
       "      <th>2</th>\n",
       "      <th>3</th>\n",
       "      <th>4</th>\n",
       "      <th>5</th>\n",
       "      <th>6</th>\n",
       "      <th>7</th>\n",
       "      <th>8</th>\n",
       "      <th>9</th>\n",
       "    </tr>\n",
       "  </thead>\n",
       "  <tbody>\n",
       "    <tr>\n",
       "      <th>7</th>\n",
       "      <td>70</td>\n",
       "      <td>71</td>\n",
       "      <td>72</td>\n",
       "      <td>73</td>\n",
       "      <td>74</td>\n",
       "      <td>75</td>\n",
       "      <td>76</td>\n",
       "      <td>77</td>\n",
       "      <td>78</td>\n",
       "      <td>79</td>\n",
       "    </tr>\n",
       "    <tr>\n",
       "      <th>8</th>\n",
       "      <td>80</td>\n",
       "      <td>81</td>\n",
       "      <td>82</td>\n",
       "      <td>83</td>\n",
       "      <td>84</td>\n",
       "      <td>85</td>\n",
       "      <td>86</td>\n",
       "      <td>87</td>\n",
       "      <td>88</td>\n",
       "      <td>89</td>\n",
       "    </tr>\n",
       "    <tr>\n",
       "      <th>9</th>\n",
       "      <td>90</td>\n",
       "      <td>91</td>\n",
       "      <td>92</td>\n",
       "      <td>93</td>\n",
       "      <td>94</td>\n",
       "      <td>95</td>\n",
       "      <td>96</td>\n",
       "      <td>97</td>\n",
       "      <td>98</td>\n",
       "      <td>99</td>\n",
       "    </tr>\n",
       "  </tbody>\n",
       "</table>\n",
       "</div>"
      ],
      "text/plain": [
       "    0   1   2   3   4   5   6   7   8   9\n",
       "7  70  71  72  73  74  75  76  77  78  79\n",
       "8  80  81  82  83  84  85  86  87  88  89\n",
       "9  90  91  92  93  94  95  96  97  98  99"
      ]
     },
     "execution_count": 37,
     "metadata": {},
     "output_type": "execute_result"
    }
   ],
   "source": [
    "d2.tail(3)"
   ]
  },
  {
   "cell_type": "code",
   "execution_count": 38,
   "metadata": {
    "id": "ZKxAC6-VzxUs",
    "outputId": "4728d207-756b-45de-e52b-9018f6dbe80c"
   },
   "outputs": [
    {
     "data": {
      "text/html": [
       "<div>\n",
       "<style scoped>\n",
       "    .dataframe tbody tr th:only-of-type {\n",
       "        vertical-align: middle;\n",
       "    }\n",
       "\n",
       "    .dataframe tbody tr th {\n",
       "        vertical-align: top;\n",
       "    }\n",
       "\n",
       "    .dataframe thead th {\n",
       "        text-align: right;\n",
       "    }\n",
       "</style>\n",
       "<table border=\"1\" class=\"dataframe\">\n",
       "  <thead>\n",
       "    <tr style=\"text-align: right;\">\n",
       "      <th></th>\n",
       "      <th>0</th>\n",
       "      <th>1</th>\n",
       "      <th>2</th>\n",
       "      <th>3</th>\n",
       "      <th>4</th>\n",
       "      <th>5</th>\n",
       "      <th>6</th>\n",
       "      <th>7</th>\n",
       "      <th>8</th>\n",
       "      <th>9</th>\n",
       "    </tr>\n",
       "  </thead>\n",
       "  <tbody>\n",
       "    <tr>\n",
       "      <th>2</th>\n",
       "      <td>20</td>\n",
       "      <td>21</td>\n",
       "      <td>22</td>\n",
       "      <td>23</td>\n",
       "      <td>24</td>\n",
       "      <td>25</td>\n",
       "      <td>26</td>\n",
       "      <td>27</td>\n",
       "      <td>28</td>\n",
       "      <td>29</td>\n",
       "    </tr>\n",
       "    <tr>\n",
       "      <th>3</th>\n",
       "      <td>30</td>\n",
       "      <td>31</td>\n",
       "      <td>32</td>\n",
       "      <td>33</td>\n",
       "      <td>34</td>\n",
       "      <td>35</td>\n",
       "      <td>36</td>\n",
       "      <td>37</td>\n",
       "      <td>38</td>\n",
       "      <td>39</td>\n",
       "    </tr>\n",
       "    <tr>\n",
       "      <th>4</th>\n",
       "      <td>40</td>\n",
       "      <td>41</td>\n",
       "      <td>42</td>\n",
       "      <td>43</td>\n",
       "      <td>44</td>\n",
       "      <td>45</td>\n",
       "      <td>46</td>\n",
       "      <td>47</td>\n",
       "      <td>48</td>\n",
       "      <td>49</td>\n",
       "    </tr>\n",
       "  </tbody>\n",
       "</table>\n",
       "</div>"
      ],
      "text/plain": [
       "    0   1   2   3   4   5   6   7   8   9\n",
       "2  20  21  22  23  24  25  26  27  28  29\n",
       "3  30  31  32  33  34  35  36  37  38  39\n",
       "4  40  41  42  43  44  45  46  47  48  49"
      ]
     },
     "execution_count": 38,
     "metadata": {},
     "output_type": "execute_result"
    }
   ],
   "source": [
    "d2[2:5]#인덱스 범위 지정 추출"
   ]
  },
  {
   "cell_type": "code",
   "execution_count": 39,
   "metadata": {
    "id": "m71qGPMFzxUt",
    "outputId": "978025a5-33b9-4a25-b0cb-66d4d54748e1"
   },
   "outputs": [
    {
     "data": {
      "text/plain": [
       "0    30\n",
       "1    31\n",
       "2    32\n",
       "3    33\n",
       "4    34\n",
       "5    35\n",
       "6    36\n",
       "7    37\n",
       "8    38\n",
       "9    39\n",
       "Name: 3, dtype: int32"
      ]
     },
     "execution_count": 39,
     "metadata": {},
     "output_type": "execute_result"
    }
   ],
   "source": [
    "d2.loc[3]#인덱스 이름으로 한 줄 추출"
   ]
  },
  {
   "cell_type": "code",
   "execution_count": 40,
   "metadata": {
    "id": "d-f8B4_vzxUt",
    "outputId": "9add839c-32f5-4610-d22d-d568f39889ee"
   },
   "outputs": [
    {
     "data": {
      "text/html": [
       "<div>\n",
       "<style scoped>\n",
       "    .dataframe tbody tr th:only-of-type {\n",
       "        vertical-align: middle;\n",
       "    }\n",
       "\n",
       "    .dataframe tbody tr th {\n",
       "        vertical-align: top;\n",
       "    }\n",
       "\n",
       "    .dataframe thead th {\n",
       "        text-align: right;\n",
       "    }\n",
       "</style>\n",
       "<table border=\"1\" class=\"dataframe\">\n",
       "  <thead>\n",
       "    <tr style=\"text-align: right;\">\n",
       "      <th></th>\n",
       "      <th>c_a</th>\n",
       "      <th>c_b</th>\n",
       "      <th>c_c</th>\n",
       "      <th>c_d</th>\n",
       "      <th>c_e</th>\n",
       "      <th>c_f</th>\n",
       "      <th>c_g</th>\n",
       "      <th>c_h</th>\n",
       "      <th>c_i</th>\n",
       "      <th>c_j</th>\n",
       "    </tr>\n",
       "  </thead>\n",
       "  <tbody>\n",
       "    <tr>\n",
       "      <th>a</th>\n",
       "      <td>0</td>\n",
       "      <td>1</td>\n",
       "      <td>2</td>\n",
       "      <td>3</td>\n",
       "      <td>4</td>\n",
       "      <td>5</td>\n",
       "      <td>6</td>\n",
       "      <td>7</td>\n",
       "      <td>8</td>\n",
       "      <td>9</td>\n",
       "    </tr>\n",
       "    <tr>\n",
       "      <th>b</th>\n",
       "      <td>10</td>\n",
       "      <td>11</td>\n",
       "      <td>12</td>\n",
       "      <td>13</td>\n",
       "      <td>14</td>\n",
       "      <td>15</td>\n",
       "      <td>16</td>\n",
       "      <td>17</td>\n",
       "      <td>18</td>\n",
       "      <td>19</td>\n",
       "    </tr>\n",
       "    <tr>\n",
       "      <th>c</th>\n",
       "      <td>20</td>\n",
       "      <td>21</td>\n",
       "      <td>22</td>\n",
       "      <td>23</td>\n",
       "      <td>24</td>\n",
       "      <td>25</td>\n",
       "      <td>26</td>\n",
       "      <td>27</td>\n",
       "      <td>28</td>\n",
       "      <td>29</td>\n",
       "    </tr>\n",
       "    <tr>\n",
       "      <th>d</th>\n",
       "      <td>30</td>\n",
       "      <td>31</td>\n",
       "      <td>32</td>\n",
       "      <td>33</td>\n",
       "      <td>34</td>\n",
       "      <td>35</td>\n",
       "      <td>36</td>\n",
       "      <td>37</td>\n",
       "      <td>38</td>\n",
       "      <td>39</td>\n",
       "    </tr>\n",
       "    <tr>\n",
       "      <th>e</th>\n",
       "      <td>40</td>\n",
       "      <td>41</td>\n",
       "      <td>42</td>\n",
       "      <td>43</td>\n",
       "      <td>44</td>\n",
       "      <td>45</td>\n",
       "      <td>46</td>\n",
       "      <td>47</td>\n",
       "      <td>48</td>\n",
       "      <td>49</td>\n",
       "    </tr>\n",
       "    <tr>\n",
       "      <th>f</th>\n",
       "      <td>50</td>\n",
       "      <td>51</td>\n",
       "      <td>52</td>\n",
       "      <td>53</td>\n",
       "      <td>54</td>\n",
       "      <td>55</td>\n",
       "      <td>56</td>\n",
       "      <td>57</td>\n",
       "      <td>58</td>\n",
       "      <td>59</td>\n",
       "    </tr>\n",
       "    <tr>\n",
       "      <th>g</th>\n",
       "      <td>60</td>\n",
       "      <td>61</td>\n",
       "      <td>62</td>\n",
       "      <td>63</td>\n",
       "      <td>64</td>\n",
       "      <td>65</td>\n",
       "      <td>66</td>\n",
       "      <td>67</td>\n",
       "      <td>68</td>\n",
       "      <td>69</td>\n",
       "    </tr>\n",
       "    <tr>\n",
       "      <th>h</th>\n",
       "      <td>70</td>\n",
       "      <td>71</td>\n",
       "      <td>72</td>\n",
       "      <td>73</td>\n",
       "      <td>74</td>\n",
       "      <td>75</td>\n",
       "      <td>76</td>\n",
       "      <td>77</td>\n",
       "      <td>78</td>\n",
       "      <td>79</td>\n",
       "    </tr>\n",
       "    <tr>\n",
       "      <th>i</th>\n",
       "      <td>80</td>\n",
       "      <td>81</td>\n",
       "      <td>82</td>\n",
       "      <td>83</td>\n",
       "      <td>84</td>\n",
       "      <td>85</td>\n",
       "      <td>86</td>\n",
       "      <td>87</td>\n",
       "      <td>88</td>\n",
       "      <td>89</td>\n",
       "    </tr>\n",
       "    <tr>\n",
       "      <th>j</th>\n",
       "      <td>90</td>\n",
       "      <td>91</td>\n",
       "      <td>92</td>\n",
       "      <td>93</td>\n",
       "      <td>94</td>\n",
       "      <td>95</td>\n",
       "      <td>96</td>\n",
       "      <td>97</td>\n",
       "      <td>98</td>\n",
       "      <td>99</td>\n",
       "    </tr>\n",
       "  </tbody>\n",
       "</table>\n",
       "</div>"
      ],
      "text/plain": [
       "   c_a  c_b  c_c  c_d  c_e  c_f  c_g  c_h  c_i  c_j\n",
       "a    0    1    2    3    4    5    6    7    8    9\n",
       "b   10   11   12   13   14   15   16   17   18   19\n",
       "c   20   21   22   23   24   25   26   27   28   29\n",
       "d   30   31   32   33   34   35   36   37   38   39\n",
       "e   40   41   42   43   44   45   46   47   48   49\n",
       "f   50   51   52   53   54   55   56   57   58   59\n",
       "g   60   61   62   63   64   65   66   67   68   69\n",
       "h   70   71   72   73   74   75   76   77   78   79\n",
       "i   80   81   82   83   84   85   86   87   88   89\n",
       "j   90   91   92   93   94   95   96   97   98   99"
      ]
     },
     "execution_count": 40,
     "metadata": {},
     "output_type": "execute_result"
    }
   ],
   "source": [
    "s = ['a','b','c','d','e','f','g','h','i','j']\n",
    "s2 = ['c_a','c_b','c_c','c_d','c_e','c_f','c_g','c_h','c_i','c_j']\n",
    "d3 = pd.DataFrame(d, index=s, columns=s2)\n",
    "d3"
   ]
  },
  {
   "cell_type": "code",
   "execution_count": 41,
   "metadata": {
    "id": "hEYHDXb3zxUt",
    "outputId": "d06322ef-f078-4694-e107-629cdea1def4"
   },
   "outputs": [
    {
     "data": {
      "text/html": [
       "<div>\n",
       "<style scoped>\n",
       "    .dataframe tbody tr th:only-of-type {\n",
       "        vertical-align: middle;\n",
       "    }\n",
       "\n",
       "    .dataframe tbody tr th {\n",
       "        vertical-align: top;\n",
       "    }\n",
       "\n",
       "    .dataframe thead th {\n",
       "        text-align: right;\n",
       "    }\n",
       "</style>\n",
       "<table border=\"1\" class=\"dataframe\">\n",
       "  <thead>\n",
       "    <tr style=\"text-align: right;\">\n",
       "      <th></th>\n",
       "      <th>c_a</th>\n",
       "      <th>c_b</th>\n",
       "      <th>c_c</th>\n",
       "      <th>c_d</th>\n",
       "      <th>c_e</th>\n",
       "      <th>c_f</th>\n",
       "      <th>c_g</th>\n",
       "      <th>c_h</th>\n",
       "      <th>c_i</th>\n",
       "      <th>c_j</th>\n",
       "    </tr>\n",
       "  </thead>\n",
       "  <tbody>\n",
       "    <tr>\n",
       "      <th>c</th>\n",
       "      <td>20</td>\n",
       "      <td>21</td>\n",
       "      <td>22</td>\n",
       "      <td>23</td>\n",
       "      <td>24</td>\n",
       "      <td>25</td>\n",
       "      <td>26</td>\n",
       "      <td>27</td>\n",
       "      <td>28</td>\n",
       "      <td>29</td>\n",
       "    </tr>\n",
       "    <tr>\n",
       "      <th>d</th>\n",
       "      <td>30</td>\n",
       "      <td>31</td>\n",
       "      <td>32</td>\n",
       "      <td>33</td>\n",
       "      <td>34</td>\n",
       "      <td>35</td>\n",
       "      <td>36</td>\n",
       "      <td>37</td>\n",
       "      <td>38</td>\n",
       "      <td>39</td>\n",
       "    </tr>\n",
       "    <tr>\n",
       "      <th>e</th>\n",
       "      <td>40</td>\n",
       "      <td>41</td>\n",
       "      <td>42</td>\n",
       "      <td>43</td>\n",
       "      <td>44</td>\n",
       "      <td>45</td>\n",
       "      <td>46</td>\n",
       "      <td>47</td>\n",
       "      <td>48</td>\n",
       "      <td>49</td>\n",
       "    </tr>\n",
       "    <tr>\n",
       "      <th>f</th>\n",
       "      <td>50</td>\n",
       "      <td>51</td>\n",
       "      <td>52</td>\n",
       "      <td>53</td>\n",
       "      <td>54</td>\n",
       "      <td>55</td>\n",
       "      <td>56</td>\n",
       "      <td>57</td>\n",
       "      <td>58</td>\n",
       "      <td>59</td>\n",
       "    </tr>\n",
       "    <tr>\n",
       "      <th>g</th>\n",
       "      <td>60</td>\n",
       "      <td>61</td>\n",
       "      <td>62</td>\n",
       "      <td>63</td>\n",
       "      <td>64</td>\n",
       "      <td>65</td>\n",
       "      <td>66</td>\n",
       "      <td>67</td>\n",
       "      <td>68</td>\n",
       "      <td>69</td>\n",
       "    </tr>\n",
       "    <tr>\n",
       "      <th>h</th>\n",
       "      <td>70</td>\n",
       "      <td>71</td>\n",
       "      <td>72</td>\n",
       "      <td>73</td>\n",
       "      <td>74</td>\n",
       "      <td>75</td>\n",
       "      <td>76</td>\n",
       "      <td>77</td>\n",
       "      <td>78</td>\n",
       "      <td>79</td>\n",
       "    </tr>\n",
       "  </tbody>\n",
       "</table>\n",
       "</div>"
      ],
      "text/plain": [
       "   c_a  c_b  c_c  c_d  c_e  c_f  c_g  c_h  c_i  c_j\n",
       "c   20   21   22   23   24   25   26   27   28   29\n",
       "d   30   31   32   33   34   35   36   37   38   39\n",
       "e   40   41   42   43   44   45   46   47   48   49\n",
       "f   50   51   52   53   54   55   56   57   58   59\n",
       "g   60   61   62   63   64   65   66   67   68   69\n",
       "h   70   71   72   73   74   75   76   77   78   79"
      ]
     },
     "execution_count": 41,
     "metadata": {},
     "output_type": "execute_result"
    }
   ],
   "source": [
    "d3.loc['c':'h']"
   ]
  },
  {
   "cell_type": "code",
   "execution_count": 42,
   "metadata": {
    "id": "0nyFLTcozxUu",
    "outputId": "18c5a76d-d149-4226-e64f-99acbcde4741"
   },
   "outputs": [
    {
     "data": {
      "text/plain": [
       "a     1\n",
       "b    11\n",
       "c    21\n",
       "d    31\n",
       "e    41\n",
       "f    51\n",
       "g    61\n",
       "h    71\n",
       "i    81\n",
       "j    91\n",
       "Name: c_b, dtype: int32"
      ]
     },
     "execution_count": 42,
     "metadata": {},
     "output_type": "execute_result"
    }
   ],
   "source": [
    "d3['c_b']"
   ]
  },
  {
   "cell_type": "code",
   "execution_count": 43,
   "metadata": {
    "id": "97_iH9mGzxUu",
    "outputId": "0b11c791-299a-4c5a-995b-657e0a82e147"
   },
   "outputs": [
    {
     "data": {
      "text/plain": [
       "c    21\n",
       "d    31\n",
       "e    41\n",
       "f    51\n",
       "Name: c_b, dtype: int32"
      ]
     },
     "execution_count": 43,
     "metadata": {},
     "output_type": "execute_result"
    }
   ],
   "source": [
    "#인덱스 c에서 f까지 c_b 컬럼만 추출 \n",
    "d3['c_b']['c':'f']"
   ]
  },
  {
   "cell_type": "code",
   "execution_count": 44,
   "metadata": {
    "id": "Kvj3KCDnzxUu",
    "outputId": "d199e5ff-7b35-4705-d741-8792f672fd7a"
   },
   "outputs": [
    {
     "data": {
      "text/plain": [
       "44"
      ]
     },
     "execution_count": 44,
     "metadata": {},
     "output_type": "execute_result"
    }
   ],
   "source": [
    "d3.loc['e']['c_e']#[인덱스][컬럼명]:요소 한개 추출"
   ]
  },
  {
   "cell_type": "code",
   "execution_count": 45,
   "metadata": {
    "id": "LCBLHqEAzxUu",
    "outputId": "698d46d0-4657-4232-eb7f-e2080ead4f67"
   },
   "outputs": [
    {
     "data": {
      "text/plain": [
       "44"
      ]
     },
     "execution_count": 45,
     "metadata": {},
     "output_type": "execute_result"
    }
   ],
   "source": [
    "d3.loc['e','c_e']"
   ]
  },
  {
   "cell_type": "code",
   "execution_count": 46,
   "metadata": {
    "id": "LPRaehkgzxUv",
    "outputId": "a4cba4c0-26d6-45a5-93a8-5de3de00f149"
   },
   "outputs": [
    {
     "data": {
      "text/plain": [
       "44"
      ]
     },
     "execution_count": 46,
     "metadata": {},
     "output_type": "execute_result"
    }
   ],
   "source": [
    "d3['c_e']['e']#[열명][인덱스명]"
   ]
  },
  {
   "cell_type": "code",
   "execution_count": 47,
   "metadata": {
    "id": "0TXTGfp9zxUv",
    "outputId": "81686743-f519-45fe-9124-c7a295f0c233"
   },
   "outputs": [
    {
     "data": {
      "text/plain": [
       "14"
      ]
     },
     "execution_count": 47,
     "metadata": {},
     "output_type": "execute_result"
    }
   ],
   "source": [
    "d3['c_e'][1]#인덱스는 위치값으로 표현 가능"
   ]
  },
  {
   "cell_type": "code",
   "execution_count": 48,
   "metadata": {
    "id": "Cb3gVRc5zxUv",
    "outputId": "2397690a-2dc1-48be-9f03-6716ab2f9b29"
   },
   "outputs": [
    {
     "data": {
      "text/plain": [
       "54"
      ]
     },
     "execution_count": 48,
     "metadata": {},
     "output_type": "execute_result"
    }
   ],
   "source": [
    "d3['c_e'].loc['f']"
   ]
  },
  {
   "cell_type": "code",
   "execution_count": 49,
   "metadata": {
    "id": "rnDT5RcczxUw",
    "outputId": "5952aaaf-4201-4e21-ce46-3043c767b83d"
   },
   "outputs": [
    {
     "data": {
      "text/html": [
       "<div>\n",
       "<style scoped>\n",
       "    .dataframe tbody tr th:only-of-type {\n",
       "        vertical-align: middle;\n",
       "    }\n",
       "\n",
       "    .dataframe tbody tr th {\n",
       "        vertical-align: top;\n",
       "    }\n",
       "\n",
       "    .dataframe thead th {\n",
       "        text-align: right;\n",
       "    }\n",
       "</style>\n",
       "<table border=\"1\" class=\"dataframe\">\n",
       "  <thead>\n",
       "    <tr style=\"text-align: right;\">\n",
       "      <th></th>\n",
       "      <th>a</th>\n",
       "      <th>b</th>\n",
       "      <th>c</th>\n",
       "      <th>d</th>\n",
       "      <th>e</th>\n",
       "      <th>f</th>\n",
       "      <th>g</th>\n",
       "      <th>h</th>\n",
       "      <th>i</th>\n",
       "      <th>j</th>\n",
       "    </tr>\n",
       "  </thead>\n",
       "  <tbody>\n",
       "    <tr>\n",
       "      <th>c_a</th>\n",
       "      <td>0</td>\n",
       "      <td>10</td>\n",
       "      <td>20</td>\n",
       "      <td>30</td>\n",
       "      <td>40</td>\n",
       "      <td>50</td>\n",
       "      <td>60</td>\n",
       "      <td>70</td>\n",
       "      <td>80</td>\n",
       "      <td>90</td>\n",
       "    </tr>\n",
       "    <tr>\n",
       "      <th>c_b</th>\n",
       "      <td>1</td>\n",
       "      <td>11</td>\n",
       "      <td>21</td>\n",
       "      <td>31</td>\n",
       "      <td>41</td>\n",
       "      <td>51</td>\n",
       "      <td>61</td>\n",
       "      <td>71</td>\n",
       "      <td>81</td>\n",
       "      <td>91</td>\n",
       "    </tr>\n",
       "    <tr>\n",
       "      <th>c_c</th>\n",
       "      <td>2</td>\n",
       "      <td>12</td>\n",
       "      <td>22</td>\n",
       "      <td>32</td>\n",
       "      <td>42</td>\n",
       "      <td>52</td>\n",
       "      <td>62</td>\n",
       "      <td>72</td>\n",
       "      <td>82</td>\n",
       "      <td>92</td>\n",
       "    </tr>\n",
       "    <tr>\n",
       "      <th>c_d</th>\n",
       "      <td>3</td>\n",
       "      <td>13</td>\n",
       "      <td>23</td>\n",
       "      <td>33</td>\n",
       "      <td>43</td>\n",
       "      <td>53</td>\n",
       "      <td>63</td>\n",
       "      <td>73</td>\n",
       "      <td>83</td>\n",
       "      <td>93</td>\n",
       "    </tr>\n",
       "    <tr>\n",
       "      <th>c_e</th>\n",
       "      <td>4</td>\n",
       "      <td>14</td>\n",
       "      <td>24</td>\n",
       "      <td>34</td>\n",
       "      <td>44</td>\n",
       "      <td>54</td>\n",
       "      <td>64</td>\n",
       "      <td>74</td>\n",
       "      <td>84</td>\n",
       "      <td>94</td>\n",
       "    </tr>\n",
       "    <tr>\n",
       "      <th>c_f</th>\n",
       "      <td>5</td>\n",
       "      <td>15</td>\n",
       "      <td>25</td>\n",
       "      <td>35</td>\n",
       "      <td>45</td>\n",
       "      <td>55</td>\n",
       "      <td>65</td>\n",
       "      <td>75</td>\n",
       "      <td>85</td>\n",
       "      <td>95</td>\n",
       "    </tr>\n",
       "    <tr>\n",
       "      <th>c_g</th>\n",
       "      <td>6</td>\n",
       "      <td>16</td>\n",
       "      <td>26</td>\n",
       "      <td>36</td>\n",
       "      <td>46</td>\n",
       "      <td>56</td>\n",
       "      <td>66</td>\n",
       "      <td>76</td>\n",
       "      <td>86</td>\n",
       "      <td>96</td>\n",
       "    </tr>\n",
       "    <tr>\n",
       "      <th>c_h</th>\n",
       "      <td>7</td>\n",
       "      <td>17</td>\n",
       "      <td>27</td>\n",
       "      <td>37</td>\n",
       "      <td>47</td>\n",
       "      <td>57</td>\n",
       "      <td>67</td>\n",
       "      <td>77</td>\n",
       "      <td>87</td>\n",
       "      <td>97</td>\n",
       "    </tr>\n",
       "    <tr>\n",
       "      <th>c_i</th>\n",
       "      <td>8</td>\n",
       "      <td>18</td>\n",
       "      <td>28</td>\n",
       "      <td>38</td>\n",
       "      <td>48</td>\n",
       "      <td>58</td>\n",
       "      <td>68</td>\n",
       "      <td>78</td>\n",
       "      <td>88</td>\n",
       "      <td>98</td>\n",
       "    </tr>\n",
       "    <tr>\n",
       "      <th>c_j</th>\n",
       "      <td>9</td>\n",
       "      <td>19</td>\n",
       "      <td>29</td>\n",
       "      <td>39</td>\n",
       "      <td>49</td>\n",
       "      <td>59</td>\n",
       "      <td>69</td>\n",
       "      <td>79</td>\n",
       "      <td>89</td>\n",
       "      <td>99</td>\n",
       "    </tr>\n",
       "  </tbody>\n",
       "</table>\n",
       "</div>"
      ],
      "text/plain": [
       "     a   b   c   d   e   f   g   h   i   j\n",
       "c_a  0  10  20  30  40  50  60  70  80  90\n",
       "c_b  1  11  21  31  41  51  61  71  81  91\n",
       "c_c  2  12  22  32  42  52  62  72  82  92\n",
       "c_d  3  13  23  33  43  53  63  73  83  93\n",
       "c_e  4  14  24  34  44  54  64  74  84  94\n",
       "c_f  5  15  25  35  45  55  65  75  85  95\n",
       "c_g  6  16  26  36  46  56  66  76  86  96\n",
       "c_h  7  17  27  37  47  57  67  77  87  97\n",
       "c_i  8  18  28  38  48  58  68  78  88  98\n",
       "c_j  9  19  29  39  49  59  69  79  89  99"
      ]
     },
     "execution_count": 49,
     "metadata": {},
     "output_type": "execute_result"
    }
   ],
   "source": [
    "d3.T#전치: 행렬을 뒤집음 (index와 collom을 서로 변경)"
   ]
  },
  {
   "cell_type": "markdown",
   "metadata": {
    "id": "BDW_yfgXzxUw"
   },
   "source": [
    "6. 데이터 통합  \n",
    "append(): 세로로 통합  \n",
    "join(): 가로로 통합  \n",
    "merge(): 특정 열을 기준으로 가로로 통합"
   ]
  },
  {
   "cell_type": "code",
   "execution_count": null,
   "metadata": {
    "id": "Fj5LjjQ-zxUw",
    "outputId": "e7dbf6c4-fde4-4fb2-bd5c-40d0b67933b5"
   },
   "outputs": [
    {
     "data": {
      "text/html": [
       "<div>\n",
       "<style scoped>\n",
       "    .dataframe tbody tr th:only-of-type {\n",
       "        vertical-align: middle;\n",
       "    }\n",
       "\n",
       "    .dataframe tbody tr th {\n",
       "        vertical-align: top;\n",
       "    }\n",
       "\n",
       "    .dataframe thead th {\n",
       "        text-align: right;\n",
       "    }\n",
       "</style>\n",
       "<table border=\"1\" class=\"dataframe\">\n",
       "  <thead>\n",
       "    <tr style=\"text-align: right;\">\n",
       "      <th></th>\n",
       "      <th>A</th>\n",
       "      <th>B</th>\n",
       "    </tr>\n",
       "  </thead>\n",
       "  <tbody>\n",
       "    <tr>\n",
       "      <th>0</th>\n",
       "      <td>78</td>\n",
       "      <td>87</td>\n",
       "    </tr>\n",
       "    <tr>\n",
       "      <th>1</th>\n",
       "      <td>67</td>\n",
       "      <td>67</td>\n",
       "    </tr>\n",
       "    <tr>\n",
       "      <th>2</th>\n",
       "      <td>54</td>\n",
       "      <td>65</td>\n",
       "    </tr>\n",
       "    <tr>\n",
       "      <th>3</th>\n",
       "      <td>34</td>\n",
       "      <td>34</td>\n",
       "    </tr>\n",
       "    <tr>\n",
       "      <th>0</th>\n",
       "      <td>76</td>\n",
       "      <td>87</td>\n",
       "    </tr>\n",
       "    <tr>\n",
       "      <th>1</th>\n",
       "      <td>54</td>\n",
       "      <td>56</td>\n",
       "    </tr>\n",
       "  </tbody>\n",
       "</table>\n",
       "</div>"
      ],
      "text/plain": [
       "    A   B\n",
       "0  78  87\n",
       "1  67  67\n",
       "2  54  65\n",
       "3  34  34\n",
       "0  76  87\n",
       "1  54  56"
      ]
     },
     "execution_count": 55,
     "metadata": {},
     "output_type": "execute_result"
    }
   ],
   "source": [
    "d1 = pd.DataFrame({'A':[78,67,54,34], 'B':[87,67,65,34]})\n",
    "d2 = pd.DataFrame({'A':[76,54], 'B':[87,56]})\n",
    "d1.append(d2)"
   ]
  },
  {
   "cell_type": "code",
   "execution_count": null,
   "metadata": {
    "id": "e0VyeUCIzxUw",
    "outputId": "99af9305-8ad8-439d-ae91-c93bb78b7939"
   },
   "outputs": [
    {
     "data": {
      "text/html": [
       "<div>\n",
       "<style scoped>\n",
       "    .dataframe tbody tr th:only-of-type {\n",
       "        vertical-align: middle;\n",
       "    }\n",
       "\n",
       "    .dataframe tbody tr th {\n",
       "        vertical-align: top;\n",
       "    }\n",
       "\n",
       "    .dataframe thead th {\n",
       "        text-align: right;\n",
       "    }\n",
       "</style>\n",
       "<table border=\"1\" class=\"dataframe\">\n",
       "  <thead>\n",
       "    <tr style=\"text-align: right;\">\n",
       "      <th></th>\n",
       "      <th>A</th>\n",
       "      <th>B</th>\n",
       "    </tr>\n",
       "  </thead>\n",
       "  <tbody>\n",
       "    <tr>\n",
       "      <th>0</th>\n",
       "      <td>78</td>\n",
       "      <td>87</td>\n",
       "    </tr>\n",
       "    <tr>\n",
       "      <th>1</th>\n",
       "      <td>67</td>\n",
       "      <td>67</td>\n",
       "    </tr>\n",
       "    <tr>\n",
       "      <th>2</th>\n",
       "      <td>54</td>\n",
       "      <td>65</td>\n",
       "    </tr>\n",
       "    <tr>\n",
       "      <th>3</th>\n",
       "      <td>34</td>\n",
       "      <td>34</td>\n",
       "    </tr>\n",
       "    <tr>\n",
       "      <th>4</th>\n",
       "      <td>76</td>\n",
       "      <td>87</td>\n",
       "    </tr>\n",
       "    <tr>\n",
       "      <th>5</th>\n",
       "      <td>54</td>\n",
       "      <td>56</td>\n",
       "    </tr>\n",
       "  </tbody>\n",
       "</table>\n",
       "</div>"
      ],
      "text/plain": [
       "    A   B\n",
       "0  78  87\n",
       "1  67  67\n",
       "2  54  65\n",
       "3  34  34\n",
       "4  76  87\n",
       "5  54  56"
      ]
     },
     "execution_count": 57,
     "metadata": {},
     "output_type": "execute_result"
    }
   ],
   "source": [
    "d1.append(d2, ignore_index=True)"
   ]
  },
  {
   "cell_type": "code",
   "execution_count": null,
   "metadata": {
    "id": "_LoSRjESzxUx",
    "outputId": "82d54a55-6c01-4fe7-e2cf-7a9d89954b04"
   },
   "outputs": [
    {
     "data": {
      "text/html": [
       "<div>\n",
       "<style scoped>\n",
       "    .dataframe tbody tr th:only-of-type {\n",
       "        vertical-align: middle;\n",
       "    }\n",
       "\n",
       "    .dataframe tbody tr th {\n",
       "        vertical-align: top;\n",
       "    }\n",
       "\n",
       "    .dataframe thead th {\n",
       "        text-align: right;\n",
       "    }\n",
       "</style>\n",
       "<table border=\"1\" class=\"dataframe\">\n",
       "  <thead>\n",
       "    <tr style=\"text-align: right;\">\n",
       "      <th></th>\n",
       "      <th>C</th>\n",
       "    </tr>\n",
       "  </thead>\n",
       "  <tbody>\n",
       "    <tr>\n",
       "      <th>0</th>\n",
       "      <td>65</td>\n",
       "    </tr>\n",
       "    <tr>\n",
       "      <th>1</th>\n",
       "      <td>43</td>\n",
       "    </tr>\n",
       "    <tr>\n",
       "      <th>2</th>\n",
       "      <td>32</td>\n",
       "    </tr>\n",
       "  </tbody>\n",
       "</table>\n",
       "</div>"
      ],
      "text/plain": [
       "    C\n",
       "0  65\n",
       "1  43\n",
       "2  32"
      ]
     },
     "execution_count": 59,
     "metadata": {},
     "output_type": "execute_result"
    }
   ],
   "source": [
    "d3 = pd.DataFrame({'C':[65,43,32]})\n",
    "d3"
   ]
  },
  {
   "cell_type": "code",
   "execution_count": null,
   "metadata": {
    "id": "4ZQCfIf3zxUx",
    "outputId": "d95fc46c-3352-4de8-b63c-63f54919a962"
   },
   "outputs": [
    {
     "data": {
      "text/html": [
       "<div>\n",
       "<style scoped>\n",
       "    .dataframe tbody tr th:only-of-type {\n",
       "        vertical-align: middle;\n",
       "    }\n",
       "\n",
       "    .dataframe tbody tr th {\n",
       "        vertical-align: top;\n",
       "    }\n",
       "\n",
       "    .dataframe thead th {\n",
       "        text-align: right;\n",
       "    }\n",
       "</style>\n",
       "<table border=\"1\" class=\"dataframe\">\n",
       "  <thead>\n",
       "    <tr style=\"text-align: right;\">\n",
       "      <th></th>\n",
       "      <th>A</th>\n",
       "      <th>B</th>\n",
       "      <th>C</th>\n",
       "    </tr>\n",
       "  </thead>\n",
       "  <tbody>\n",
       "    <tr>\n",
       "      <th>0</th>\n",
       "      <td>78</td>\n",
       "      <td>87</td>\n",
       "      <td>65.0</td>\n",
       "    </tr>\n",
       "    <tr>\n",
       "      <th>1</th>\n",
       "      <td>67</td>\n",
       "      <td>67</td>\n",
       "      <td>43.0</td>\n",
       "    </tr>\n",
       "    <tr>\n",
       "      <th>2</th>\n",
       "      <td>54</td>\n",
       "      <td>65</td>\n",
       "      <td>32.0</td>\n",
       "    </tr>\n",
       "    <tr>\n",
       "      <th>3</th>\n",
       "      <td>34</td>\n",
       "      <td>34</td>\n",
       "      <td>NaN</td>\n",
       "    </tr>\n",
       "  </tbody>\n",
       "</table>\n",
       "</div>"
      ],
      "text/plain": [
       "    A   B     C\n",
       "0  78  87  65.0\n",
       "1  67  67  43.0\n",
       "2  54  65  32.0\n",
       "3  34  34   NaN"
      ]
     },
     "execution_count": 60,
     "metadata": {},
     "output_type": "execute_result"
    }
   ],
   "source": [
    "d1.join(d3)"
   ]
  },
  {
   "cell_type": "code",
   "execution_count": null,
   "metadata": {
    "id": "R8jKLE_ezxUx",
    "outputId": "bde39e40-35d0-4a1a-ac5f-73df46539720"
   },
   "outputs": [
    {
     "data": {
      "text/html": [
       "<div>\n",
       "<style scoped>\n",
       "    .dataframe tbody tr th:only-of-type {\n",
       "        vertical-align: middle;\n",
       "    }\n",
       "\n",
       "    .dataframe tbody tr th {\n",
       "        vertical-align: top;\n",
       "    }\n",
       "\n",
       "    .dataframe thead th {\n",
       "        text-align: right;\n",
       "    }\n",
       "</style>\n",
       "<table border=\"1\" class=\"dataframe\">\n",
       "  <thead>\n",
       "    <tr style=\"text-align: right;\">\n",
       "      <th></th>\n",
       "      <th>판매월</th>\n",
       "      <th>A</th>\n",
       "      <th>B</th>\n",
       "    </tr>\n",
       "  </thead>\n",
       "  <tbody>\n",
       "    <tr>\n",
       "      <th>0</th>\n",
       "      <td>1월</td>\n",
       "      <td>54</td>\n",
       "      <td>87</td>\n",
       "    </tr>\n",
       "    <tr>\n",
       "      <th>1</th>\n",
       "      <td>2월</td>\n",
       "      <td>65</td>\n",
       "      <td>65</td>\n",
       "    </tr>\n",
       "    <tr>\n",
       "      <th>2</th>\n",
       "      <td>3월</td>\n",
       "      <td>76</td>\n",
       "      <td>54</td>\n",
       "    </tr>\n",
       "    <tr>\n",
       "      <th>3</th>\n",
       "      <td>4월</td>\n",
       "      <td>78</td>\n",
       "      <td>43</td>\n",
       "    </tr>\n",
       "  </tbody>\n",
       "</table>\n",
       "</div>"
      ],
      "text/plain": [
       "  판매월   A   B\n",
       "0  1월  54  87\n",
       "1  2월  65  65\n",
       "2  3월  76  54\n",
       "3  4월  78  43"
      ]
     },
     "execution_count": 4,
     "metadata": {},
     "output_type": "execute_result"
    }
   ],
   "source": [
    "d1 = pd.DataFrame({'판매월':['1월','2월','3월','4월'], 'A':[54,65,76,78], 'B':[87,65,54,43]})\n",
    "d1"
   ]
  },
  {
   "cell_type": "code",
   "execution_count": null,
   "metadata": {
    "id": "3KPgRLOPzxUy",
    "outputId": "12258a50-71a0-410c-ac12-11fca4d16b47"
   },
   "outputs": [
    {
     "data": {
      "text/html": [
       "<div>\n",
       "<style scoped>\n",
       "    .dataframe tbody tr th:only-of-type {\n",
       "        vertical-align: middle;\n",
       "    }\n",
       "\n",
       "    .dataframe tbody tr th {\n",
       "        vertical-align: top;\n",
       "    }\n",
       "\n",
       "    .dataframe thead th {\n",
       "        text-align: right;\n",
       "    }\n",
       "</style>\n",
       "<table border=\"1\" class=\"dataframe\">\n",
       "  <thead>\n",
       "    <tr style=\"text-align: right;\">\n",
       "      <th></th>\n",
       "      <th>판매월</th>\n",
       "      <th>C</th>\n",
       "      <th>D</th>\n",
       "    </tr>\n",
       "  </thead>\n",
       "  <tbody>\n",
       "    <tr>\n",
       "      <th>0</th>\n",
       "      <td>1월</td>\n",
       "      <td>54</td>\n",
       "      <td>98</td>\n",
       "    </tr>\n",
       "    <tr>\n",
       "      <th>1</th>\n",
       "      <td>2월</td>\n",
       "      <td>43</td>\n",
       "      <td>87</td>\n",
       "    </tr>\n",
       "    <tr>\n",
       "      <th>2</th>\n",
       "      <td>3월</td>\n",
       "      <td>32</td>\n",
       "      <td>76</td>\n",
       "    </tr>\n",
       "    <tr>\n",
       "      <th>3</th>\n",
       "      <td>4월</td>\n",
       "      <td>54</td>\n",
       "      <td>45</td>\n",
       "    </tr>\n",
       "  </tbody>\n",
       "</table>\n",
       "</div>"
      ],
      "text/plain": [
       "  판매월   C   D\n",
       "0  1월  54  98\n",
       "1  2월  43  87\n",
       "2  3월  32  76\n",
       "3  4월  54  45"
      ]
     },
     "execution_count": 63,
     "metadata": {},
     "output_type": "execute_result"
    }
   ],
   "source": [
    "d2 = pd.DataFrame({'판매월':['1월','2월','3월','4월'], 'C':[54,43,32,54], 'D':[98,87,76,45]})\n",
    "d2"
   ]
  },
  {
   "cell_type": "code",
   "execution_count": null,
   "metadata": {
    "id": "jNddEjbFzxUy",
    "outputId": "5152830f-2caa-4245-ffbc-3e21de433294"
   },
   "outputs": [
    {
     "data": {
      "text/html": [
       "<div>\n",
       "<style scoped>\n",
       "    .dataframe tbody tr th:only-of-type {\n",
       "        vertical-align: middle;\n",
       "    }\n",
       "\n",
       "    .dataframe tbody tr th {\n",
       "        vertical-align: top;\n",
       "    }\n",
       "\n",
       "    .dataframe thead th {\n",
       "        text-align: right;\n",
       "    }\n",
       "</style>\n",
       "<table border=\"1\" class=\"dataframe\">\n",
       "  <thead>\n",
       "    <tr style=\"text-align: right;\">\n",
       "      <th></th>\n",
       "      <th>판매월</th>\n",
       "      <th>A</th>\n",
       "      <th>B</th>\n",
       "      <th>C</th>\n",
       "      <th>D</th>\n",
       "    </tr>\n",
       "  </thead>\n",
       "  <tbody>\n",
       "    <tr>\n",
       "      <th>0</th>\n",
       "      <td>1월</td>\n",
       "      <td>54</td>\n",
       "      <td>87</td>\n",
       "      <td>54</td>\n",
       "      <td>98</td>\n",
       "    </tr>\n",
       "    <tr>\n",
       "      <th>1</th>\n",
       "      <td>2월</td>\n",
       "      <td>65</td>\n",
       "      <td>65</td>\n",
       "      <td>43</td>\n",
       "      <td>87</td>\n",
       "    </tr>\n",
       "    <tr>\n",
       "      <th>2</th>\n",
       "      <td>3월</td>\n",
       "      <td>76</td>\n",
       "      <td>54</td>\n",
       "      <td>32</td>\n",
       "      <td>76</td>\n",
       "    </tr>\n",
       "    <tr>\n",
       "      <th>3</th>\n",
       "      <td>4월</td>\n",
       "      <td>78</td>\n",
       "      <td>43</td>\n",
       "      <td>54</td>\n",
       "      <td>45</td>\n",
       "    </tr>\n",
       "  </tbody>\n",
       "</table>\n",
       "</div>"
      ],
      "text/plain": [
       "  판매월   A   B   C   D\n",
       "0  1월  54  87  54  98\n",
       "1  2월  65  65  43  87\n",
       "2  3월  76  54  32  76\n",
       "3  4월  78  43  54  45"
      ]
     },
     "execution_count": 64,
     "metadata": {},
     "output_type": "execute_result"
    }
   ],
   "source": [
    "d1.merge(d2)"
   ]
  },
  {
   "cell_type": "markdown",
   "metadata": {
    "id": "AEljEunjzxUz"
   },
   "source": [
    "*merge()함수 how옵션  \n",
    "left: 왼쪽을 모두 선택. 오른쪽은 지정된 열만  \n",
    "right: 오른쪽 모두 선택. 왼쪽은 지정된 열만  \n",
    "outer: 왼쪽, 오른쪽 모두 다  \n",
    "inner: 지정된 열의 공통된 값만"
   ]
  },
  {
   "cell_type": "code",
   "execution_count": null,
   "metadata": {
    "id": "zhq1MNMXzxUz",
    "outputId": "72233d1b-d6e9-4002-e116-758b61c6d0c6"
   },
   "outputs": [
    {
     "data": {
      "text/html": [
       "<div>\n",
       "<style scoped>\n",
       "    .dataframe tbody tr th:only-of-type {\n",
       "        vertical-align: middle;\n",
       "    }\n",
       "\n",
       "    .dataframe tbody tr th {\n",
       "        vertical-align: top;\n",
       "    }\n",
       "\n",
       "    .dataframe thead th {\n",
       "        text-align: right;\n",
       "    }\n",
       "</style>\n",
       "<table border=\"1\" class=\"dataframe\">\n",
       "  <thead>\n",
       "    <tr style=\"text-align: right;\">\n",
       "      <th></th>\n",
       "      <th>판매월</th>\n",
       "      <th>C</th>\n",
       "      <th>D</th>\n",
       "    </tr>\n",
       "  </thead>\n",
       "  <tbody>\n",
       "    <tr>\n",
       "      <th>0</th>\n",
       "      <td>3월</td>\n",
       "      <td>54</td>\n",
       "      <td>98</td>\n",
       "    </tr>\n",
       "    <tr>\n",
       "      <th>1</th>\n",
       "      <td>4월</td>\n",
       "      <td>43</td>\n",
       "      <td>87</td>\n",
       "    </tr>\n",
       "    <tr>\n",
       "      <th>2</th>\n",
       "      <td>5월</td>\n",
       "      <td>32</td>\n",
       "      <td>76</td>\n",
       "    </tr>\n",
       "    <tr>\n",
       "      <th>3</th>\n",
       "      <td>6월</td>\n",
       "      <td>54</td>\n",
       "      <td>45</td>\n",
       "    </tr>\n",
       "  </tbody>\n",
       "</table>\n",
       "</div>"
      ],
      "text/plain": [
       "  판매월   C   D\n",
       "0  3월  54  98\n",
       "1  4월  43  87\n",
       "2  5월  32  76\n",
       "3  6월  54  45"
      ]
     },
     "execution_count": 65,
     "metadata": {},
     "output_type": "execute_result"
    }
   ],
   "source": [
    "d2 = pd.DataFrame({'판매월':['3월','4월','5월', '6월'], 'C':[54,43,32,54], 'D':[98,87,76,45]})\n",
    "d2"
   ]
  },
  {
   "cell_type": "code",
   "execution_count": null,
   "metadata": {
    "id": "aNv8d8irzxU0",
    "outputId": "002f1912-8b5d-4cc4-a36d-c4336ea85655"
   },
   "outputs": [
    {
     "data": {
      "text/html": [
       "<div>\n",
       "<style scoped>\n",
       "    .dataframe tbody tr th:only-of-type {\n",
       "        vertical-align: middle;\n",
       "    }\n",
       "\n",
       "    .dataframe tbody tr th {\n",
       "        vertical-align: top;\n",
       "    }\n",
       "\n",
       "    .dataframe thead th {\n",
       "        text-align: right;\n",
       "    }\n",
       "</style>\n",
       "<table border=\"1\" class=\"dataframe\">\n",
       "  <thead>\n",
       "    <tr style=\"text-align: right;\">\n",
       "      <th></th>\n",
       "      <th>판매월</th>\n",
       "      <th>A</th>\n",
       "      <th>B</th>\n",
       "      <th>C</th>\n",
       "      <th>D</th>\n",
       "    </tr>\n",
       "  </thead>\n",
       "  <tbody>\n",
       "    <tr>\n",
       "      <th>0</th>\n",
       "      <td>3월</td>\n",
       "      <td>76</td>\n",
       "      <td>54</td>\n",
       "      <td>54</td>\n",
       "      <td>98</td>\n",
       "    </tr>\n",
       "    <tr>\n",
       "      <th>1</th>\n",
       "      <td>4월</td>\n",
       "      <td>78</td>\n",
       "      <td>43</td>\n",
       "      <td>43</td>\n",
       "      <td>87</td>\n",
       "    </tr>\n",
       "  </tbody>\n",
       "</table>\n",
       "</div>"
      ],
      "text/plain": [
       "  판매월   A   B   C   D\n",
       "0  3월  76  54  54  98\n",
       "1  4월  78  43  43  87"
      ]
     },
     "execution_count": 66,
     "metadata": {},
     "output_type": "execute_result"
    }
   ],
   "source": [
    "d1.merge(d2)#how 기본 값: inner"
   ]
  },
  {
   "cell_type": "code",
   "execution_count": null,
   "metadata": {
    "id": "oyxiFTo5zxU0",
    "outputId": "cdd0dd09-4812-436d-aee5-c4a20fe49351"
   },
   "outputs": [
    {
     "data": {
      "text/html": [
       "<div>\n",
       "<style scoped>\n",
       "    .dataframe tbody tr th:only-of-type {\n",
       "        vertical-align: middle;\n",
       "    }\n",
       "\n",
       "    .dataframe tbody tr th {\n",
       "        vertical-align: top;\n",
       "    }\n",
       "\n",
       "    .dataframe thead th {\n",
       "        text-align: right;\n",
       "    }\n",
       "</style>\n",
       "<table border=\"1\" class=\"dataframe\">\n",
       "  <thead>\n",
       "    <tr style=\"text-align: right;\">\n",
       "      <th></th>\n",
       "      <th>판매월</th>\n",
       "      <th>A</th>\n",
       "      <th>B</th>\n",
       "      <th>C</th>\n",
       "      <th>D</th>\n",
       "    </tr>\n",
       "  </thead>\n",
       "  <tbody>\n",
       "    <tr>\n",
       "      <th>0</th>\n",
       "      <td>1월</td>\n",
       "      <td>54</td>\n",
       "      <td>87</td>\n",
       "      <td>NaN</td>\n",
       "      <td>NaN</td>\n",
       "    </tr>\n",
       "    <tr>\n",
       "      <th>1</th>\n",
       "      <td>2월</td>\n",
       "      <td>65</td>\n",
       "      <td>65</td>\n",
       "      <td>NaN</td>\n",
       "      <td>NaN</td>\n",
       "    </tr>\n",
       "    <tr>\n",
       "      <th>2</th>\n",
       "      <td>3월</td>\n",
       "      <td>76</td>\n",
       "      <td>54</td>\n",
       "      <td>54.0</td>\n",
       "      <td>98.0</td>\n",
       "    </tr>\n",
       "    <tr>\n",
       "      <th>3</th>\n",
       "      <td>4월</td>\n",
       "      <td>78</td>\n",
       "      <td>43</td>\n",
       "      <td>43.0</td>\n",
       "      <td>87.0</td>\n",
       "    </tr>\n",
       "  </tbody>\n",
       "</table>\n",
       "</div>"
      ],
      "text/plain": [
       "  판매월   A   B     C     D\n",
       "0  1월  54  87   NaN   NaN\n",
       "1  2월  65  65   NaN   NaN\n",
       "2  3월  76  54  54.0  98.0\n",
       "3  4월  78  43  43.0  87.0"
      ]
     },
     "execution_count": 67,
     "metadata": {},
     "output_type": "execute_result"
    }
   ],
   "source": [
    "d1.merge(d2, how='left')"
   ]
  },
  {
   "cell_type": "code",
   "execution_count": null,
   "metadata": {
    "id": "TDfW3i_FzxU0",
    "outputId": "49677d8c-1b20-4afd-9900-1a7b5030dc77"
   },
   "outputs": [
    {
     "data": {
      "text/html": [
       "<div>\n",
       "<style scoped>\n",
       "    .dataframe tbody tr th:only-of-type {\n",
       "        vertical-align: middle;\n",
       "    }\n",
       "\n",
       "    .dataframe tbody tr th {\n",
       "        vertical-align: top;\n",
       "    }\n",
       "\n",
       "    .dataframe thead th {\n",
       "        text-align: right;\n",
       "    }\n",
       "</style>\n",
       "<table border=\"1\" class=\"dataframe\">\n",
       "  <thead>\n",
       "    <tr style=\"text-align: right;\">\n",
       "      <th></th>\n",
       "      <th>판매월</th>\n",
       "      <th>A</th>\n",
       "      <th>B</th>\n",
       "      <th>C</th>\n",
       "      <th>D</th>\n",
       "    </tr>\n",
       "  </thead>\n",
       "  <tbody>\n",
       "    <tr>\n",
       "      <th>0</th>\n",
       "      <td>3월</td>\n",
       "      <td>76.0</td>\n",
       "      <td>54.0</td>\n",
       "      <td>54</td>\n",
       "      <td>98</td>\n",
       "    </tr>\n",
       "    <tr>\n",
       "      <th>1</th>\n",
       "      <td>4월</td>\n",
       "      <td>78.0</td>\n",
       "      <td>43.0</td>\n",
       "      <td>43</td>\n",
       "      <td>87</td>\n",
       "    </tr>\n",
       "    <tr>\n",
       "      <th>2</th>\n",
       "      <td>5월</td>\n",
       "      <td>NaN</td>\n",
       "      <td>NaN</td>\n",
       "      <td>32</td>\n",
       "      <td>76</td>\n",
       "    </tr>\n",
       "    <tr>\n",
       "      <th>3</th>\n",
       "      <td>6월</td>\n",
       "      <td>NaN</td>\n",
       "      <td>NaN</td>\n",
       "      <td>54</td>\n",
       "      <td>45</td>\n",
       "    </tr>\n",
       "  </tbody>\n",
       "</table>\n",
       "</div>"
      ],
      "text/plain": [
       "  판매월     A     B   C   D\n",
       "0  3월  76.0  54.0  54  98\n",
       "1  4월  78.0  43.0  43  87\n",
       "2  5월   NaN   NaN  32  76\n",
       "3  6월   NaN   NaN  54  45"
      ]
     },
     "execution_count": 68,
     "metadata": {},
     "output_type": "execute_result"
    }
   ],
   "source": [
    "d1.merge(d2, how='right')"
   ]
  },
  {
   "cell_type": "code",
   "execution_count": null,
   "metadata": {
    "id": "Qlwm_XEOzxU1",
    "outputId": "f00ff546-d7d1-48a9-9d2e-c144a7050099"
   },
   "outputs": [
    {
     "data": {
      "text/html": [
       "<div>\n",
       "<style scoped>\n",
       "    .dataframe tbody tr th:only-of-type {\n",
       "        vertical-align: middle;\n",
       "    }\n",
       "\n",
       "    .dataframe tbody tr th {\n",
       "        vertical-align: top;\n",
       "    }\n",
       "\n",
       "    .dataframe thead th {\n",
       "        text-align: right;\n",
       "    }\n",
       "</style>\n",
       "<table border=\"1\" class=\"dataframe\">\n",
       "  <thead>\n",
       "    <tr style=\"text-align: right;\">\n",
       "      <th></th>\n",
       "      <th>판매월</th>\n",
       "      <th>A</th>\n",
       "      <th>B</th>\n",
       "      <th>C</th>\n",
       "      <th>D</th>\n",
       "    </tr>\n",
       "  </thead>\n",
       "  <tbody>\n",
       "    <tr>\n",
       "      <th>0</th>\n",
       "      <td>1월</td>\n",
       "      <td>54.0</td>\n",
       "      <td>87.0</td>\n",
       "      <td>NaN</td>\n",
       "      <td>NaN</td>\n",
       "    </tr>\n",
       "    <tr>\n",
       "      <th>1</th>\n",
       "      <td>2월</td>\n",
       "      <td>65.0</td>\n",
       "      <td>65.0</td>\n",
       "      <td>NaN</td>\n",
       "      <td>NaN</td>\n",
       "    </tr>\n",
       "    <tr>\n",
       "      <th>2</th>\n",
       "      <td>3월</td>\n",
       "      <td>76.0</td>\n",
       "      <td>54.0</td>\n",
       "      <td>54.0</td>\n",
       "      <td>98.0</td>\n",
       "    </tr>\n",
       "    <tr>\n",
       "      <th>3</th>\n",
       "      <td>4월</td>\n",
       "      <td>78.0</td>\n",
       "      <td>43.0</td>\n",
       "      <td>43.0</td>\n",
       "      <td>87.0</td>\n",
       "    </tr>\n",
       "    <tr>\n",
       "      <th>4</th>\n",
       "      <td>5월</td>\n",
       "      <td>NaN</td>\n",
       "      <td>NaN</td>\n",
       "      <td>32.0</td>\n",
       "      <td>76.0</td>\n",
       "    </tr>\n",
       "    <tr>\n",
       "      <th>5</th>\n",
       "      <td>6월</td>\n",
       "      <td>NaN</td>\n",
       "      <td>NaN</td>\n",
       "      <td>54.0</td>\n",
       "      <td>45.0</td>\n",
       "    </tr>\n",
       "  </tbody>\n",
       "</table>\n",
       "</div>"
      ],
      "text/plain": [
       "  판매월     A     B     C     D\n",
       "0  1월  54.0  87.0   NaN   NaN\n",
       "1  2월  65.0  65.0   NaN   NaN\n",
       "2  3월  76.0  54.0  54.0  98.0\n",
       "3  4월  78.0  43.0  43.0  87.0\n",
       "4  5월   NaN   NaN  32.0  76.0\n",
       "5  6월   NaN   NaN  54.0  45.0"
      ]
     },
     "execution_count": 69,
     "metadata": {},
     "output_type": "execute_result"
    }
   ],
   "source": [
    "d1.merge(d2, how='outer')"
   ]
  },
  {
   "cell_type": "markdown",
   "metadata": {
    "id": "SzbA9IWqzxU1"
   },
   "source": [
    "7. 파일 입출력  \n",
    "read_csv(파일명): csv 파일에서 읽기  \n",
    "DataFrame.to_csv(파일명): 데이터 프레임 내용을 파일에 작성"
   ]
  },
  {
   "cell_type": "code",
   "execution_count": 50,
   "metadata": {
    "id": "wrrlSMh4zxU1",
    "outputId": "d39edf7b-190a-4989-9d55-56b2186531f4"
   },
   "outputs": [
    {
     "name": "stdout",
     "output_type": "stream",
     "text": [
      "Writing a.csv\n"
     ]
    }
   ],
   "source": [
    "%%writefile a.csv\n",
    "이름,국어,영어,수학\n",
    "aaa,43,54,65\n",
    "bbb,7,67,87\n",
    "ccc,54,65,76"
   ]
  },
  {
   "cell_type": "code",
   "execution_count": 51,
   "metadata": {
    "id": "ICOr3UZ-zxU2",
    "outputId": "380a8d92-9148-4c9f-8c45-028f00a2f72c"
   },
   "outputs": [
    {
     "data": {
      "text/html": [
       "<div>\n",
       "<style scoped>\n",
       "    .dataframe tbody tr th:only-of-type {\n",
       "        vertical-align: middle;\n",
       "    }\n",
       "\n",
       "    .dataframe tbody tr th {\n",
       "        vertical-align: top;\n",
       "    }\n",
       "\n",
       "    .dataframe thead th {\n",
       "        text-align: right;\n",
       "    }\n",
       "</style>\n",
       "<table border=\"1\" class=\"dataframe\">\n",
       "  <thead>\n",
       "    <tr style=\"text-align: right;\">\n",
       "      <th></th>\n",
       "      <th>이름</th>\n",
       "      <th>국어</th>\n",
       "      <th>영어</th>\n",
       "      <th>수학</th>\n",
       "    </tr>\n",
       "  </thead>\n",
       "  <tbody>\n",
       "    <tr>\n",
       "      <th>0</th>\n",
       "      <td>aaa</td>\n",
       "      <td>43</td>\n",
       "      <td>54</td>\n",
       "      <td>65</td>\n",
       "    </tr>\n",
       "    <tr>\n",
       "      <th>1</th>\n",
       "      <td>bbb</td>\n",
       "      <td>7</td>\n",
       "      <td>67</td>\n",
       "      <td>87</td>\n",
       "    </tr>\n",
       "    <tr>\n",
       "      <th>2</th>\n",
       "      <td>ccc</td>\n",
       "      <td>54</td>\n",
       "      <td>65</td>\n",
       "      <td>76</td>\n",
       "    </tr>\n",
       "  </tbody>\n",
       "</table>\n",
       "</div>"
      ],
      "text/plain": [
       "    이름  국어  영어  수학\n",
       "0  aaa  43  54  65\n",
       "1  bbb   7  67  87\n",
       "2  ccc  54  65  76"
      ]
     },
     "execution_count": 51,
     "metadata": {},
     "output_type": "execute_result"
    }
   ],
   "source": [
    "#csv 파일 로드\n",
    "pd.read_csv('a.csv')"
   ]
  },
  {
   "cell_type": "code",
   "execution_count": 52,
   "metadata": {
    "id": "j2mxhIF2zxU3",
    "outputId": "7f286ef6-e25e-4856-be20-7bb070f7c89d"
   },
   "outputs": [
    {
     "data": {
      "text/html": [
       "<div>\n",
       "<style scoped>\n",
       "    .dataframe tbody tr th:only-of-type {\n",
       "        vertical-align: middle;\n",
       "    }\n",
       "\n",
       "    .dataframe tbody tr th {\n",
       "        vertical-align: top;\n",
       "    }\n",
       "\n",
       "    .dataframe thead th {\n",
       "        text-align: right;\n",
       "    }\n",
       "</style>\n",
       "<table border=\"1\" class=\"dataframe\">\n",
       "  <thead>\n",
       "    <tr style=\"text-align: right;\">\n",
       "      <th></th>\n",
       "      <th>국어</th>\n",
       "      <th>영어</th>\n",
       "      <th>수학</th>\n",
       "    </tr>\n",
       "    <tr>\n",
       "      <th>이름</th>\n",
       "      <th></th>\n",
       "      <th></th>\n",
       "      <th></th>\n",
       "    </tr>\n",
       "  </thead>\n",
       "  <tbody>\n",
       "    <tr>\n",
       "      <th>aaa</th>\n",
       "      <td>43</td>\n",
       "      <td>54</td>\n",
       "      <td>65</td>\n",
       "    </tr>\n",
       "    <tr>\n",
       "      <th>bbb</th>\n",
       "      <td>7</td>\n",
       "      <td>67</td>\n",
       "      <td>87</td>\n",
       "    </tr>\n",
       "    <tr>\n",
       "      <th>ccc</th>\n",
       "      <td>54</td>\n",
       "      <td>65</td>\n",
       "      <td>76</td>\n",
       "    </tr>\n",
       "  </tbody>\n",
       "</table>\n",
       "</div>"
      ],
      "text/plain": [
       "     국어  영어  수학\n",
       "이름             \n",
       "aaa  43  54  65\n",
       "bbb   7  67  87\n",
       "ccc  54  65  76"
      ]
     },
     "execution_count": 52,
     "metadata": {},
     "output_type": "execute_result"
    }
   ],
   "source": [
    "pd.read_csv('a.csv', index_col='이름')"
   ]
  },
  {
   "cell_type": "code",
   "execution_count": 53,
   "metadata": {
    "id": "fPJNnx5HzxU3"
   },
   "outputs": [],
   "source": [
    "# 데이터 프레임 데이터를 파일로 쓰기\n",
    "d1.to_csv('b.csv')"
   ]
  },
  {
   "cell_type": "code",
   "execution_count": 58,
   "metadata": {
    "id": "tLlqOsy-zxU3",
    "outputId": "51cf907c-cf66-4abd-a58e-07a5573beef0"
   },
   "outputs": [
    {
     "ename": "FileNotFoundError",
     "evalue": "[Errno 2] No such file or directory: 'bicycle.csv'",
     "output_type": "error",
     "traceback": [
      "\u001b[1;31m---------------------------------------------------------------------------\u001b[0m",
      "\u001b[1;31mFileNotFoundError\u001b[0m                         Traceback (most recent call last)",
      "Cell \u001b[1;32mIn [58], line 4\u001b[0m\n\u001b[0;32m      1\u001b[0m \u001b[38;5;66;03m# unicode...utf-8...에러 나면\u001b[39;00m\n\u001b[0;32m      2\u001b[0m \u001b[38;5;66;03m# engine='python'  추가\u001b[39;00m\n\u001b[0;32m      3\u001b[0m \u001b[38;5;66;03m# 그래도 안되면 csv 파일을 메모장에서 열어서 encoding을 utf-8로 변환하여 새이름으로 저장\u001b[39;00m\n\u001b[1;32m----> 4\u001b[0m bicycle_data \u001b[38;5;241m=\u001b[39m pd\u001b[38;5;241m.\u001b[39mread_csv(\u001b[38;5;124m'\u001b[39m\u001b[38;5;124mbicycle.csv\u001b[39m\u001b[38;5;124m'\u001b[39m, engine\u001b[38;5;241m=\u001b[39m\u001b[38;5;124m'\u001b[39m\u001b[38;5;124mpython\u001b[39m\u001b[38;5;124m'\u001b[39m)  \n\u001b[0;32m      5\u001b[0m bicycle_data\n",
      "File \u001b[1;32mC:\\workspace_0711\\python\\venv\\lib\\site-packages\\pandas\\util\\_decorators.py:211\u001b[0m, in \u001b[0;36mdeprecate_kwarg.<locals>._deprecate_kwarg.<locals>.wrapper\u001b[1;34m(*args, **kwargs)\u001b[0m\n\u001b[0;32m    209\u001b[0m     \u001b[38;5;28;01melse\u001b[39;00m:\n\u001b[0;32m    210\u001b[0m         kwargs[new_arg_name] \u001b[38;5;241m=\u001b[39m new_arg_value\n\u001b[1;32m--> 211\u001b[0m \u001b[38;5;28;01mreturn\u001b[39;00m func(\u001b[38;5;241m*\u001b[39margs, \u001b[38;5;241m*\u001b[39m\u001b[38;5;241m*\u001b[39mkwargs)\n",
      "File \u001b[1;32mC:\\workspace_0711\\python\\venv\\lib\\site-packages\\pandas\\util\\_decorators.py:317\u001b[0m, in \u001b[0;36mdeprecate_nonkeyword_arguments.<locals>.decorate.<locals>.wrapper\u001b[1;34m(*args, **kwargs)\u001b[0m\n\u001b[0;32m    311\u001b[0m \u001b[38;5;28;01mif\u001b[39;00m \u001b[38;5;28mlen\u001b[39m(args) \u001b[38;5;241m>\u001b[39m num_allow_args:\n\u001b[0;32m    312\u001b[0m     warnings\u001b[38;5;241m.\u001b[39mwarn(\n\u001b[0;32m    313\u001b[0m         msg\u001b[38;5;241m.\u001b[39mformat(arguments\u001b[38;5;241m=\u001b[39marguments),\n\u001b[0;32m    314\u001b[0m         \u001b[38;5;167;01mFutureWarning\u001b[39;00m,\n\u001b[0;32m    315\u001b[0m         stacklevel\u001b[38;5;241m=\u001b[39mfind_stack_level(inspect\u001b[38;5;241m.\u001b[39mcurrentframe()),\n\u001b[0;32m    316\u001b[0m     )\n\u001b[1;32m--> 317\u001b[0m \u001b[38;5;28;01mreturn\u001b[39;00m func(\u001b[38;5;241m*\u001b[39margs, \u001b[38;5;241m*\u001b[39m\u001b[38;5;241m*\u001b[39mkwargs)\n",
      "File \u001b[1;32mC:\\workspace_0711\\python\\venv\\lib\\site-packages\\pandas\\io\\parsers\\readers.py:950\u001b[0m, in \u001b[0;36mread_csv\u001b[1;34m(filepath_or_buffer, sep, delimiter, header, names, index_col, usecols, squeeze, prefix, mangle_dupe_cols, dtype, engine, converters, true_values, false_values, skipinitialspace, skiprows, skipfooter, nrows, na_values, keep_default_na, na_filter, verbose, skip_blank_lines, parse_dates, infer_datetime_format, keep_date_col, date_parser, dayfirst, cache_dates, iterator, chunksize, compression, thousands, decimal, lineterminator, quotechar, quoting, doublequote, escapechar, comment, encoding, encoding_errors, dialect, error_bad_lines, warn_bad_lines, on_bad_lines, delim_whitespace, low_memory, memory_map, float_precision, storage_options)\u001b[0m\n\u001b[0;32m    935\u001b[0m kwds_defaults \u001b[38;5;241m=\u001b[39m _refine_defaults_read(\n\u001b[0;32m    936\u001b[0m     dialect,\n\u001b[0;32m    937\u001b[0m     delimiter,\n\u001b[1;32m   (...)\u001b[0m\n\u001b[0;32m    946\u001b[0m     defaults\u001b[38;5;241m=\u001b[39m{\u001b[38;5;124m\"\u001b[39m\u001b[38;5;124mdelimiter\u001b[39m\u001b[38;5;124m\"\u001b[39m: \u001b[38;5;124m\"\u001b[39m\u001b[38;5;124m,\u001b[39m\u001b[38;5;124m\"\u001b[39m},\n\u001b[0;32m    947\u001b[0m )\n\u001b[0;32m    948\u001b[0m kwds\u001b[38;5;241m.\u001b[39mupdate(kwds_defaults)\n\u001b[1;32m--> 950\u001b[0m \u001b[38;5;28;01mreturn\u001b[39;00m \u001b[43m_read\u001b[49m\u001b[43m(\u001b[49m\u001b[43mfilepath_or_buffer\u001b[49m\u001b[43m,\u001b[49m\u001b[43m \u001b[49m\u001b[43mkwds\u001b[49m\u001b[43m)\u001b[49m\n",
      "File \u001b[1;32mC:\\workspace_0711\\python\\venv\\lib\\site-packages\\pandas\\io\\parsers\\readers.py:605\u001b[0m, in \u001b[0;36m_read\u001b[1;34m(filepath_or_buffer, kwds)\u001b[0m\n\u001b[0;32m    602\u001b[0m _validate_names(kwds\u001b[38;5;241m.\u001b[39mget(\u001b[38;5;124m\"\u001b[39m\u001b[38;5;124mnames\u001b[39m\u001b[38;5;124m\"\u001b[39m, \u001b[38;5;28;01mNone\u001b[39;00m))\n\u001b[0;32m    604\u001b[0m \u001b[38;5;66;03m# Create the parser.\u001b[39;00m\n\u001b[1;32m--> 605\u001b[0m parser \u001b[38;5;241m=\u001b[39m TextFileReader(filepath_or_buffer, \u001b[38;5;241m*\u001b[39m\u001b[38;5;241m*\u001b[39mkwds)\n\u001b[0;32m    607\u001b[0m \u001b[38;5;28;01mif\u001b[39;00m chunksize \u001b[38;5;129;01mor\u001b[39;00m iterator:\n\u001b[0;32m    608\u001b[0m     \u001b[38;5;28;01mreturn\u001b[39;00m parser\n",
      "File \u001b[1;32mC:\\workspace_0711\\python\\venv\\lib\\site-packages\\pandas\\io\\parsers\\readers.py:1442\u001b[0m, in \u001b[0;36mTextFileReader.__init__\u001b[1;34m(self, f, engine, **kwds)\u001b[0m\n\u001b[0;32m   1439\u001b[0m     \u001b[38;5;28mself\u001b[39m\u001b[38;5;241m.\u001b[39moptions[\u001b[38;5;124m\"\u001b[39m\u001b[38;5;124mhas_index_names\u001b[39m\u001b[38;5;124m\"\u001b[39m] \u001b[38;5;241m=\u001b[39m kwds[\u001b[38;5;124m\"\u001b[39m\u001b[38;5;124mhas_index_names\u001b[39m\u001b[38;5;124m\"\u001b[39m]\n\u001b[0;32m   1441\u001b[0m \u001b[38;5;28mself\u001b[39m\u001b[38;5;241m.\u001b[39mhandles: IOHandles \u001b[38;5;241m|\u001b[39m \u001b[38;5;28;01mNone\u001b[39;00m \u001b[38;5;241m=\u001b[39m \u001b[38;5;28;01mNone\u001b[39;00m\n\u001b[1;32m-> 1442\u001b[0m \u001b[38;5;28mself\u001b[39m\u001b[38;5;241m.\u001b[39m_engine \u001b[38;5;241m=\u001b[39m \u001b[38;5;28;43mself\u001b[39;49m\u001b[38;5;241;43m.\u001b[39;49m\u001b[43m_make_engine\u001b[49m\u001b[43m(\u001b[49m\u001b[43mf\u001b[49m\u001b[43m,\u001b[49m\u001b[43m \u001b[49m\u001b[38;5;28;43mself\u001b[39;49m\u001b[38;5;241;43m.\u001b[39;49m\u001b[43mengine\u001b[49m\u001b[43m)\u001b[49m\n",
      "File \u001b[1;32mC:\\workspace_0711\\python\\venv\\lib\\site-packages\\pandas\\io\\parsers\\readers.py:1729\u001b[0m, in \u001b[0;36mTextFileReader._make_engine\u001b[1;34m(self, f, engine)\u001b[0m\n\u001b[0;32m   1727\u001b[0m     is_text \u001b[38;5;241m=\u001b[39m \u001b[38;5;28;01mFalse\u001b[39;00m\n\u001b[0;32m   1728\u001b[0m     mode \u001b[38;5;241m=\u001b[39m \u001b[38;5;124m\"\u001b[39m\u001b[38;5;124mrb\u001b[39m\u001b[38;5;124m\"\u001b[39m\n\u001b[1;32m-> 1729\u001b[0m \u001b[38;5;28mself\u001b[39m\u001b[38;5;241m.\u001b[39mhandles \u001b[38;5;241m=\u001b[39m \u001b[43mget_handle\u001b[49m\u001b[43m(\u001b[49m\n\u001b[0;32m   1730\u001b[0m \u001b[43m    \u001b[49m\u001b[43mf\u001b[49m\u001b[43m,\u001b[49m\n\u001b[0;32m   1731\u001b[0m \u001b[43m    \u001b[49m\u001b[43mmode\u001b[49m\u001b[43m,\u001b[49m\n\u001b[0;32m   1732\u001b[0m \u001b[43m    \u001b[49m\u001b[43mencoding\u001b[49m\u001b[38;5;241;43m=\u001b[39;49m\u001b[38;5;28;43mself\u001b[39;49m\u001b[38;5;241;43m.\u001b[39;49m\u001b[43moptions\u001b[49m\u001b[38;5;241;43m.\u001b[39;49m\u001b[43mget\u001b[49m\u001b[43m(\u001b[49m\u001b[38;5;124;43m\"\u001b[39;49m\u001b[38;5;124;43mencoding\u001b[39;49m\u001b[38;5;124;43m\"\u001b[39;49m\u001b[43m,\u001b[49m\u001b[43m \u001b[49m\u001b[38;5;28;43;01mNone\u001b[39;49;00m\u001b[43m)\u001b[49m\u001b[43m,\u001b[49m\n\u001b[0;32m   1733\u001b[0m \u001b[43m    \u001b[49m\u001b[43mcompression\u001b[49m\u001b[38;5;241;43m=\u001b[39;49m\u001b[38;5;28;43mself\u001b[39;49m\u001b[38;5;241;43m.\u001b[39;49m\u001b[43moptions\u001b[49m\u001b[38;5;241;43m.\u001b[39;49m\u001b[43mget\u001b[49m\u001b[43m(\u001b[49m\u001b[38;5;124;43m\"\u001b[39;49m\u001b[38;5;124;43mcompression\u001b[39;49m\u001b[38;5;124;43m\"\u001b[39;49m\u001b[43m,\u001b[49m\u001b[43m \u001b[49m\u001b[38;5;28;43;01mNone\u001b[39;49;00m\u001b[43m)\u001b[49m\u001b[43m,\u001b[49m\n\u001b[0;32m   1734\u001b[0m \u001b[43m    \u001b[49m\u001b[43mmemory_map\u001b[49m\u001b[38;5;241;43m=\u001b[39;49m\u001b[38;5;28;43mself\u001b[39;49m\u001b[38;5;241;43m.\u001b[39;49m\u001b[43moptions\u001b[49m\u001b[38;5;241;43m.\u001b[39;49m\u001b[43mget\u001b[49m\u001b[43m(\u001b[49m\u001b[38;5;124;43m\"\u001b[39;49m\u001b[38;5;124;43mmemory_map\u001b[39;49m\u001b[38;5;124;43m\"\u001b[39;49m\u001b[43m,\u001b[49m\u001b[43m \u001b[49m\u001b[38;5;28;43;01mFalse\u001b[39;49;00m\u001b[43m)\u001b[49m\u001b[43m,\u001b[49m\n\u001b[0;32m   1735\u001b[0m \u001b[43m    \u001b[49m\u001b[43mis_text\u001b[49m\u001b[38;5;241;43m=\u001b[39;49m\u001b[43mis_text\u001b[49m\u001b[43m,\u001b[49m\n\u001b[0;32m   1736\u001b[0m \u001b[43m    \u001b[49m\u001b[43merrors\u001b[49m\u001b[38;5;241;43m=\u001b[39;49m\u001b[38;5;28;43mself\u001b[39;49m\u001b[38;5;241;43m.\u001b[39;49m\u001b[43moptions\u001b[49m\u001b[38;5;241;43m.\u001b[39;49m\u001b[43mget\u001b[49m\u001b[43m(\u001b[49m\u001b[38;5;124;43m\"\u001b[39;49m\u001b[38;5;124;43mencoding_errors\u001b[39;49m\u001b[38;5;124;43m\"\u001b[39;49m\u001b[43m,\u001b[49m\u001b[43m \u001b[49m\u001b[38;5;124;43m\"\u001b[39;49m\u001b[38;5;124;43mstrict\u001b[39;49m\u001b[38;5;124;43m\"\u001b[39;49m\u001b[43m)\u001b[49m\u001b[43m,\u001b[49m\n\u001b[0;32m   1737\u001b[0m \u001b[43m    \u001b[49m\u001b[43mstorage_options\u001b[49m\u001b[38;5;241;43m=\u001b[39;49m\u001b[38;5;28;43mself\u001b[39;49m\u001b[38;5;241;43m.\u001b[39;49m\u001b[43moptions\u001b[49m\u001b[38;5;241;43m.\u001b[39;49m\u001b[43mget\u001b[49m\u001b[43m(\u001b[49m\u001b[38;5;124;43m\"\u001b[39;49m\u001b[38;5;124;43mstorage_options\u001b[39;49m\u001b[38;5;124;43m\"\u001b[39;49m\u001b[43m,\u001b[49m\u001b[43m \u001b[49m\u001b[38;5;28;43;01mNone\u001b[39;49;00m\u001b[43m)\u001b[49m\u001b[43m,\u001b[49m\n\u001b[0;32m   1738\u001b[0m \u001b[43m\u001b[49m\u001b[43m)\u001b[49m\n\u001b[0;32m   1739\u001b[0m \u001b[38;5;28;01massert\u001b[39;00m \u001b[38;5;28mself\u001b[39m\u001b[38;5;241m.\u001b[39mhandles \u001b[38;5;129;01mis\u001b[39;00m \u001b[38;5;129;01mnot\u001b[39;00m \u001b[38;5;28;01mNone\u001b[39;00m\n\u001b[0;32m   1740\u001b[0m f \u001b[38;5;241m=\u001b[39m \u001b[38;5;28mself\u001b[39m\u001b[38;5;241m.\u001b[39mhandles\u001b[38;5;241m.\u001b[39mhandle\n",
      "File \u001b[1;32mC:\\workspace_0711\\python\\venv\\lib\\site-packages\\pandas\\io\\common.py:857\u001b[0m, in \u001b[0;36mget_handle\u001b[1;34m(path_or_buf, mode, encoding, compression, memory_map, is_text, errors, storage_options)\u001b[0m\n\u001b[0;32m    852\u001b[0m \u001b[38;5;28;01melif\u001b[39;00m \u001b[38;5;28misinstance\u001b[39m(handle, \u001b[38;5;28mstr\u001b[39m):\n\u001b[0;32m    853\u001b[0m     \u001b[38;5;66;03m# Check whether the filename is to be opened in binary mode.\u001b[39;00m\n\u001b[0;32m    854\u001b[0m     \u001b[38;5;66;03m# Binary mode does not support 'encoding' and 'newline'.\u001b[39;00m\n\u001b[0;32m    855\u001b[0m     \u001b[38;5;28;01mif\u001b[39;00m ioargs\u001b[38;5;241m.\u001b[39mencoding \u001b[38;5;129;01mand\u001b[39;00m \u001b[38;5;124m\"\u001b[39m\u001b[38;5;124mb\u001b[39m\u001b[38;5;124m\"\u001b[39m \u001b[38;5;129;01mnot\u001b[39;00m \u001b[38;5;129;01min\u001b[39;00m ioargs\u001b[38;5;241m.\u001b[39mmode:\n\u001b[0;32m    856\u001b[0m         \u001b[38;5;66;03m# Encoding\u001b[39;00m\n\u001b[1;32m--> 857\u001b[0m         handle \u001b[38;5;241m=\u001b[39m \u001b[38;5;28;43mopen\u001b[39;49m\u001b[43m(\u001b[49m\n\u001b[0;32m    858\u001b[0m \u001b[43m            \u001b[49m\u001b[43mhandle\u001b[49m\u001b[43m,\u001b[49m\n\u001b[0;32m    859\u001b[0m \u001b[43m            \u001b[49m\u001b[43mioargs\u001b[49m\u001b[38;5;241;43m.\u001b[39;49m\u001b[43mmode\u001b[49m\u001b[43m,\u001b[49m\n\u001b[0;32m    860\u001b[0m \u001b[43m            \u001b[49m\u001b[43mencoding\u001b[49m\u001b[38;5;241;43m=\u001b[39;49m\u001b[43mioargs\u001b[49m\u001b[38;5;241;43m.\u001b[39;49m\u001b[43mencoding\u001b[49m\u001b[43m,\u001b[49m\n\u001b[0;32m    861\u001b[0m \u001b[43m            \u001b[49m\u001b[43merrors\u001b[49m\u001b[38;5;241;43m=\u001b[39;49m\u001b[43merrors\u001b[49m\u001b[43m,\u001b[49m\n\u001b[0;32m    862\u001b[0m \u001b[43m            \u001b[49m\u001b[43mnewline\u001b[49m\u001b[38;5;241;43m=\u001b[39;49m\u001b[38;5;124;43m\"\u001b[39;49m\u001b[38;5;124;43m\"\u001b[39;49m\u001b[43m,\u001b[49m\n\u001b[0;32m    863\u001b[0m \u001b[43m        \u001b[49m\u001b[43m)\u001b[49m\n\u001b[0;32m    864\u001b[0m     \u001b[38;5;28;01melse\u001b[39;00m:\n\u001b[0;32m    865\u001b[0m         \u001b[38;5;66;03m# Binary mode\u001b[39;00m\n\u001b[0;32m    866\u001b[0m         handle \u001b[38;5;241m=\u001b[39m \u001b[38;5;28mopen\u001b[39m(handle, ioargs\u001b[38;5;241m.\u001b[39mmode)\n",
      "\u001b[1;31mFileNotFoundError\u001b[0m: [Errno 2] No such file or directory: 'bicycle.csv'"
     ]
    }
   ],
   "source": [
    "# unicode...utf-8...에러 나면\n",
    "# engine='python'  추가\n",
    "# 그래도 안되면 csv 파일을 메모장에서 열어서 encoding을 utf-8로 변환하여 새이름으로 저장\n",
    "bicycle_data = pd.read_csv('bicycle.csv', engine='python')  \n",
    "bicycle_data"
   ]
  },
  {
   "cell_type": "code",
   "execution_count": 60,
   "metadata": {
    "id": "8_f51XKxzxU4",
    "outputId": "0ccdfb82-0e27-48ff-cfc5-a8f4c01550ff"
   },
   "outputs": [
    {
     "ename": "NameError",
     "evalue": "name 'bicycle_data' is not defined",
     "output_type": "error",
     "traceback": [
      "\u001b[1;31m---------------------------------------------------------------------------\u001b[0m",
      "\u001b[1;31mNameError\u001b[0m                                 Traceback (most recent call last)",
      "Cell \u001b[1;32mIn [60], line 1\u001b[0m\n\u001b[1;32m----> 1\u001b[0m bicycle_data[\u001b[38;5;124m'\u001b[39m\u001b[38;5;124m노선명\u001b[39m\u001b[38;5;124m'\u001b[39m]\n",
      "\u001b[1;31mNameError\u001b[0m: name 'bicycle_data' is not defined"
     ]
    }
   ],
   "source": [
    "bicycle_data['노선명']"
   ]
  },
  {
   "cell_type": "code",
   "execution_count": 64,
   "metadata": {
    "id": "z46JAH7SzxU4",
    "outputId": "2b8a6e4c-bc45-424d-e7e1-b7fac7c41bc7"
   },
   "outputs": [
    {
     "data": {
      "text/html": [
       "<div>\n",
       "<style scoped>\n",
       "    .dataframe tbody tr th:only-of-type {\n",
       "        vertical-align: middle;\n",
       "    }\n",
       "\n",
       "    .dataframe tbody tr th {\n",
       "        vertical-align: top;\n",
       "    }\n",
       "\n",
       "    .dataframe thead th {\n",
       "        text-align: right;\n",
       "    }\n",
       "</style>\n",
       "<table border=\"1\" class=\"dataframe\">\n",
       "  <thead>\n",
       "    <tr style=\"text-align: right;\">\n",
       "      <th></th>\n",
       "      <th>자전거도로종류</th>\n",
       "      <th>기점</th>\n",
       "      <th>종점</th>\n",
       "      <th>주요경유지</th>\n",
       "      <th>방향</th>\n",
       "      <th>총연장</th>\n",
       "      <th>일반도로폭</th>\n",
       "      <th>자전거도로폭</th>\n",
       "      <th>설치연도</th>\n",
       "      <th>도로재질</th>\n",
       "      <th>비고</th>\n",
       "      <th>데이터기준일</th>\n",
       "    </tr>\n",
       "    <tr>\n",
       "      <th>노선명</th>\n",
       "      <th></th>\n",
       "      <th></th>\n",
       "      <th></th>\n",
       "      <th></th>\n",
       "      <th></th>\n",
       "      <th></th>\n",
       "      <th></th>\n",
       "      <th></th>\n",
       "      <th></th>\n",
       "      <th></th>\n",
       "      <th></th>\n",
       "      <th></th>\n",
       "    </tr>\n",
       "  </thead>\n",
       "  <tbody>\n",
       "    <tr>\n",
       "      <th>동일로</th>\n",
       "      <td>자전거및보행자겸용도로</td>\n",
       "      <td>장평교교차로</td>\n",
       "      <td>군자교교차로</td>\n",
       "      <td>중곡빗물펌프장</td>\n",
       "      <td>양방</td>\n",
       "      <td>1.5(3.0)</td>\n",
       "      <td>30</td>\n",
       "      <td>4</td>\n",
       "      <td>1996</td>\n",
       "      <td>고압블럭</td>\n",
       "      <td>표지</td>\n",
       "      <td>2022-01-26</td>\n",
       "    </tr>\n",
       "    <tr>\n",
       "      <th>광나루로56길</th>\n",
       "      <td>자전거및보행자겸용도로</td>\n",
       "      <td>테크노마트</td>\n",
       "      <td>광남중고교입구교차로</td>\n",
       "      <td>프라임아파트</td>\n",
       "      <td>양방</td>\n",
       "      <td>0.5(1.0)</td>\n",
       "      <td>35</td>\n",
       "      <td>3.5</td>\n",
       "      <td>1996</td>\n",
       "      <td>고압블럭</td>\n",
       "      <td>표지</td>\n",
       "      <td>2022-01-26</td>\n",
       "    </tr>\n",
       "    <tr>\n",
       "      <th>아차산로70길</th>\n",
       "      <td>자전거및보행자겸용도로</td>\n",
       "      <td>광남중고교 입구교차로</td>\n",
       "      <td>광남중입구</td>\n",
       "      <td>한강시민공원연결로</td>\n",
       "      <td>양방</td>\n",
       "      <td>0.5(1.0)</td>\n",
       "      <td>20</td>\n",
       "      <td>3.0(2.0)</td>\n",
       "      <td>2007</td>\n",
       "      <td>고압블럭</td>\n",
       "      <td>표지</td>\n",
       "      <td>2022-01-26</td>\n",
       "    </tr>\n",
       "    <tr>\n",
       "      <th>능동로</th>\n",
       "      <td>자전거및보행자겸용도로</td>\n",
       "      <td>용곡삼거리</td>\n",
       "      <td>군자역사거리</td>\n",
       "      <td>중곡역</td>\n",
       "      <td>양방</td>\n",
       "      <td>1.4(2.8)</td>\n",
       "      <td>25</td>\n",
       "      <td>4.0(2.0)</td>\n",
       "      <td>1999</td>\n",
       "      <td>투수콘/블럭</td>\n",
       "      <td>표지</td>\n",
       "      <td>2022-01-26</td>\n",
       "    </tr>\n",
       "    <tr>\n",
       "      <th>능동로</th>\n",
       "      <td>자전거및보행자겸용도로</td>\n",
       "      <td>군자역사거리</td>\n",
       "      <td>어린이대공원역</td>\n",
       "      <td>세종대학교</td>\n",
       "      <td>양방</td>\n",
       "      <td>1.2(2.4)</td>\n",
       "      <td>25</td>\n",
       "      <td>4.0(2.0)</td>\n",
       "      <td>1996/2020</td>\n",
       "      <td>투수콘/화강석</td>\n",
       "      <td>라인표지</td>\n",
       "      <td>2022-01-26</td>\n",
       "    </tr>\n",
       "    <tr>\n",
       "      <th>능동로</th>\n",
       "      <td>자전거및보행자겸용도로</td>\n",
       "      <td>어린이대공원역</td>\n",
       "      <td>건대입구역</td>\n",
       "      <td>건국대학교병원</td>\n",
       "      <td>편방</td>\n",
       "      <td>0.85</td>\n",
       "      <td>35</td>\n",
       "      <td>4.0(2.0)</td>\n",
       "      <td>2005/2006</td>\n",
       "      <td>점토블럭</td>\n",
       "      <td>표지</td>\n",
       "      <td>2022-01-26</td>\n",
       "    </tr>\n",
       "    <tr>\n",
       "      <th>능동로</th>\n",
       "      <td>자전거및보행자겸용도로</td>\n",
       "      <td>건대입구역</td>\n",
       "      <td>뚝섬유원지역</td>\n",
       "      <td>신양초교</td>\n",
       "      <td>편방</td>\n",
       "      <td>0.95</td>\n",
       "      <td>25</td>\n",
       "      <td>4.0(2.0)</td>\n",
       "      <td>2002/2020</td>\n",
       "      <td>점토블럭</td>\n",
       "      <td>표지</td>\n",
       "      <td>2022-01-26</td>\n",
       "    </tr>\n",
       "    <tr>\n",
       "      <th>광나루로</th>\n",
       "      <td>자전거및보행자겸용도로</td>\n",
       "      <td>화양사거리</td>\n",
       "      <td>어린이대공원역(5번출구)</td>\n",
       "      <td>화양삼거리</td>\n",
       "      <td>편방</td>\n",
       "      <td>0.6</td>\n",
       "      <td>30</td>\n",
       "      <td>4</td>\n",
       "      <td>2015</td>\n",
       "      <td>투수콘/ 블럭</td>\n",
       "      <td>표지</td>\n",
       "      <td>2022-01-26</td>\n",
       "    </tr>\n",
       "    <tr>\n",
       "      <th>광나루로</th>\n",
       "      <td>자전거및보행자겸용도로</td>\n",
       "      <td>어린이대공원역</td>\n",
       "      <td>구의사거리</td>\n",
       "      <td>어린이회관</td>\n",
       "      <td>편방</td>\n",
       "      <td>1</td>\n",
       "      <td>30</td>\n",
       "      <td>3.5</td>\n",
       "      <td>1997/2020</td>\n",
       "      <td>투수콘/ 블럭</td>\n",
       "      <td>표지</td>\n",
       "      <td>2022-01-26</td>\n",
       "    </tr>\n",
       "    <tr>\n",
       "      <th>광나루로</th>\n",
       "      <td>자전거및보행자겸용도로</td>\n",
       "      <td>구의사거리</td>\n",
       "      <td>광진구민방위교육센터</td>\n",
       "      <td>올림픽대교북단교차로</td>\n",
       "      <td>편방</td>\n",
       "      <td>1.4</td>\n",
       "      <td>30</td>\n",
       "      <td>3.5</td>\n",
       "      <td>1997</td>\n",
       "      <td>투수콘/ 블럭</td>\n",
       "      <td>표지</td>\n",
       "      <td>2022-01-26</td>\n",
       "    </tr>\n",
       "    <tr>\n",
       "      <th>아차산로</th>\n",
       "      <td>자전거및보행자겸용도로</td>\n",
       "      <td>성수사거리</td>\n",
       "      <td>자양사거리</td>\n",
       "      <td>건대입구역</td>\n",
       "      <td>양방</td>\n",
       "      <td>1.9(3.8)</td>\n",
       "      <td>35</td>\n",
       "      <td>4</td>\n",
       "      <td>1997</td>\n",
       "      <td>고압블럭</td>\n",
       "      <td>표지</td>\n",
       "      <td>2022-01-26</td>\n",
       "    </tr>\n",
       "    <tr>\n",
       "      <th>아차산로</th>\n",
       "      <td>자전거및보행자겸용도로</td>\n",
       "      <td>자양사거리</td>\n",
       "      <td>올림픽대교북단교차로</td>\n",
       "      <td>구의역</td>\n",
       "      <td>편방</td>\n",
       "      <td>1.2</td>\n",
       "      <td>25</td>\n",
       "      <td>3.5</td>\n",
       "      <td>1998</td>\n",
       "      <td>고압블럭</td>\n",
       "      <td>표지</td>\n",
       "      <td>2022-01-26</td>\n",
       "    </tr>\n",
       "    <tr>\n",
       "      <th>아차산로</th>\n",
       "      <td>자전거및보행자겸용도로</td>\n",
       "      <td>올림픽대교 북단교차로</td>\n",
       "      <td>광장사거리</td>\n",
       "      <td>극동아파트</td>\n",
       "      <td>양방</td>\n",
       "      <td>0.85(1.7)</td>\n",
       "      <td>25</td>\n",
       "      <td>3.5</td>\n",
       "      <td>1998</td>\n",
       "      <td>고압블럭</td>\n",
       "      <td>표지</td>\n",
       "      <td>2022-01-26</td>\n",
       "    </tr>\n",
       "    <tr>\n",
       "      <th>아차산로</th>\n",
       "      <td>자전거및보행자겸용도로</td>\n",
       "      <td>광장사거리</td>\n",
       "      <td>장로회신학대학교 입구</td>\n",
       "      <td>광장신동아파밀리에아파트</td>\n",
       "      <td>편방</td>\n",
       "      <td>0.39</td>\n",
       "      <td>30</td>\n",
       "      <td>3.5</td>\n",
       "      <td>1998</td>\n",
       "      <td>고압블럭</td>\n",
       "      <td>표지</td>\n",
       "      <td>2022-01-26</td>\n",
       "    </tr>\n",
       "    <tr>\n",
       "      <th>아차산로</th>\n",
       "      <td>자전거및보행자겸용도로</td>\n",
       "      <td>광진청소년센터</td>\n",
       "      <td>동북아스위트힐아파트</td>\n",
       "      <td>광진구보훈회관</td>\n",
       "      <td>편방</td>\n",
       "      <td>0.6</td>\n",
       "      <td>30</td>\n",
       "      <td>3.5</td>\n",
       "      <td>2021</td>\n",
       "      <td>고압블럭</td>\n",
       "      <td>표지</td>\n",
       "      <td>2022-01-26</td>\n",
       "    </tr>\n",
       "    <tr>\n",
       "      <th>아차산로</th>\n",
       "      <td>자전거및보행자겸용도로</td>\n",
       "      <td>동북아스위트힐</td>\n",
       "      <td>구리시 경계</td>\n",
       "      <td>그랜드워커힐 서울</td>\n",
       "      <td>편방</td>\n",
       "      <td>0.9</td>\n",
       "      <td>22</td>\n",
       "      <td>2.5</td>\n",
       "      <td>2016</td>\n",
       "      <td>우레탄</td>\n",
       "      <td>표지</td>\n",
       "      <td>2022-01-26</td>\n",
       "    </tr>\n",
       "    <tr>\n",
       "      <th>자양로</th>\n",
       "      <td>자전거및보행자겸용도로</td>\n",
       "      <td>아차산역 교차로</td>\n",
       "      <td>구의사거리</td>\n",
       "      <td>구의2동</td>\n",
       "      <td>편방</td>\n",
       "      <td>0.7</td>\n",
       "      <td>30</td>\n",
       "      <td>4</td>\n",
       "      <td>1998</td>\n",
       "      <td>고압블럭</td>\n",
       "      <td>표지</td>\n",
       "      <td>2022-01-26</td>\n",
       "    </tr>\n",
       "    <tr>\n",
       "      <th>자양로</th>\n",
       "      <td>자전거및보행자겸용도로</td>\n",
       "      <td>구의사거리</td>\n",
       "      <td>자양사거리</td>\n",
       "      <td>광진구청</td>\n",
       "      <td>양방</td>\n",
       "      <td>0.91(1.82)</td>\n",
       "      <td>30</td>\n",
       "      <td>3.5</td>\n",
       "      <td>2014</td>\n",
       "      <td>고압블럭</td>\n",
       "      <td>표지</td>\n",
       "      <td>2022-01-26</td>\n",
       "    </tr>\n",
       "    <tr>\n",
       "      <th>자양로</th>\n",
       "      <td>자전거및보행자겸용도로</td>\n",
       "      <td>자양사거리</td>\n",
       "      <td>잠실대교북단</td>\n",
       "      <td>혜민병원</td>\n",
       "      <td>양방</td>\n",
       "      <td>0.75(1.5)</td>\n",
       "      <td>35</td>\n",
       "      <td>4</td>\n",
       "      <td>1997</td>\n",
       "      <td>고압블럭</td>\n",
       "      <td>표지</td>\n",
       "      <td>2022-01-26</td>\n",
       "    </tr>\n",
       "    <tr>\n",
       "      <th>천호대로</th>\n",
       "      <td>자전거및보행자겸용도로</td>\n",
       "      <td>군자교 교차로</td>\n",
       "      <td>광장사거리</td>\n",
       "      <td>아차산역</td>\n",
       "      <td>편방</td>\n",
       "      <td>2.8</td>\n",
       "      <td>50</td>\n",
       "      <td>6</td>\n",
       "      <td>1998</td>\n",
       "      <td>화강석/ 블럭</td>\n",
       "      <td>표지</td>\n",
       "      <td>2022-01-26</td>\n",
       "    </tr>\n",
       "    <tr>\n",
       "      <th>천호대로</th>\n",
       "      <td>자전거및보행자겸용도로</td>\n",
       "      <td>광장사거리</td>\n",
       "      <td>군자교교차로</td>\n",
       "      <td>아차산역</td>\n",
       "      <td>편방</td>\n",
       "      <td>3.1</td>\n",
       "      <td>50</td>\n",
       "      <td>6</td>\n",
       "      <td>1998/2020</td>\n",
       "      <td>화강석/ 블럭</td>\n",
       "      <td>표지</td>\n",
       "      <td>2022-01-26</td>\n",
       "    </tr>\n",
       "    <tr>\n",
       "      <th>구천면로</th>\n",
       "      <td>자전거및보행자겸용도로</td>\n",
       "      <td>광장사거리</td>\n",
       "      <td>광진교북단</td>\n",
       "      <td>광진구민체육센터</td>\n",
       "      <td>편방</td>\n",
       "      <td>0.4</td>\n",
       "      <td>40/22</td>\n",
       "      <td>2</td>\n",
       "      <td>2007</td>\n",
       "      <td>적색투수콘</td>\n",
       "      <td>표지</td>\n",
       "      <td>2022-01-26</td>\n",
       "    </tr>\n",
       "    <tr>\n",
       "      <th>긴고랑로</th>\n",
       "      <td>자전거및보행자겸용도로</td>\n",
       "      <td>동곡삼거리</td>\n",
       "      <td>용마사거리</td>\n",
       "      <td>중곡1동사거리</td>\n",
       "      <td>양방</td>\n",
       "      <td>0.52(1.04)</td>\n",
       "      <td>25</td>\n",
       "      <td>4～4.5</td>\n",
       "      <td>1998</td>\n",
       "      <td>고압블럭</td>\n",
       "      <td>표지</td>\n",
       "      <td>2022-01-26</td>\n",
       "    </tr>\n",
       "    <tr>\n",
       "      <th>자양번영로</th>\n",
       "      <td>자전거및보행자겸용도로</td>\n",
       "      <td>자양삼거리</td>\n",
       "      <td>신자초등학교</td>\n",
       "      <td>자양1파출소</td>\n",
       "      <td>양방</td>\n",
       "      <td>0.95(1.9)</td>\n",
       "      <td>25</td>\n",
       "      <td>4.0(2.0)</td>\n",
       "      <td>1998</td>\n",
       "      <td>투수콘/ 블럭</td>\n",
       "      <td>표지</td>\n",
       "      <td>2022-01-26</td>\n",
       "    </tr>\n",
       "    <tr>\n",
       "      <th>용마산로</th>\n",
       "      <td>자전거및보행자겸용도로</td>\n",
       "      <td>아차산역 삼거리</td>\n",
       "      <td>중랑구경계</td>\n",
       "      <td>중곡사거리</td>\n",
       "      <td>양방</td>\n",
       "      <td>1.84(3.68)</td>\n",
       "      <td>25</td>\n",
       "      <td>4</td>\n",
       "      <td>1999</td>\n",
       "      <td>고압블럭</td>\n",
       "      <td>표지</td>\n",
       "      <td>2022-01-26</td>\n",
       "    </tr>\n",
       "    <tr>\n",
       "      <th>뚝섬로</th>\n",
       "      <td>자전거및보행자겸용도로</td>\n",
       "      <td>신자초교 입구교차로</td>\n",
       "      <td>잠실대교북단교차로</td>\n",
       "      <td>성자초교</td>\n",
       "      <td>양방</td>\n",
       "      <td>0.9(1.8)</td>\n",
       "      <td>22</td>\n",
       "      <td>4</td>\n",
       "      <td>1999</td>\n",
       "      <td>고압블럭</td>\n",
       "      <td>표지</td>\n",
       "      <td>2022-01-26</td>\n",
       "    </tr>\n",
       "    <tr>\n",
       "      <th>아차산로36길</th>\n",
       "      <td>자전거및보행자겸용도로</td>\n",
       "      <td>이마트</td>\n",
       "      <td>스타시티 C동</td>\n",
       "      <td>스타시티 B동</td>\n",
       "      <td>편방</td>\n",
       "      <td>0.27</td>\n",
       "      <td>27</td>\n",
       "      <td>1.5</td>\n",
       "      <td>2007</td>\n",
       "      <td>초록색우레탄</td>\n",
       "      <td>표지</td>\n",
       "      <td>2022-01-26</td>\n",
       "    </tr>\n",
       "    <tr>\n",
       "      <th>능동로10길</th>\n",
       "      <td>자전거및보행자겸용도로</td>\n",
       "      <td>스타시티 C동</td>\n",
       "      <td>광진문화예술회관</td>\n",
       "      <td>스타시티 D동</td>\n",
       "      <td>편방</td>\n",
       "      <td>0.36</td>\n",
       "      <td>18</td>\n",
       "      <td>2</td>\n",
       "      <td>2007</td>\n",
       "      <td>초록색우레탄</td>\n",
       "      <td>표지</td>\n",
       "      <td>2022-01-26</td>\n",
       "    </tr>\n",
       "    <tr>\n",
       "      <th>강변역로</th>\n",
       "      <td>자전거및보행자겸용도로</td>\n",
       "      <td>강변역(1번출구)</td>\n",
       "      <td>잠실철교 입구(연결로)</td>\n",
       "      <td>강변역</td>\n",
       "      <td>편방</td>\n",
       "      <td>0.2</td>\n",
       "      <td>27</td>\n",
       "      <td>6.0(2.0)</td>\n",
       "      <td>2007</td>\n",
       "      <td>고압블럭</td>\n",
       "      <td>표지</td>\n",
       "      <td>2022-01-26</td>\n",
       "    </tr>\n",
       "    <tr>\n",
       "      <th>중랑천</th>\n",
       "      <td>자전거전용도로</td>\n",
       "      <td>장평교</td>\n",
       "      <td>군자교</td>\n",
       "      <td>중랑천</td>\n",
       "      <td>편방</td>\n",
       "      <td>1.6</td>\n",
       "      <td>0</td>\n",
       "      <td>4</td>\n",
       "      <td>2003/2007</td>\n",
       "      <td>적색투수콘</td>\n",
       "      <td>라인</td>\n",
       "      <td>2022-01-26</td>\n",
       "    </tr>\n",
       "    <tr>\n",
       "      <th>천호대로</th>\n",
       "      <td>자전거전용도로</td>\n",
       "      <td>광장사거리</td>\n",
       "      <td>천호대교북단</td>\n",
       "      <td>극동2차아파트</td>\n",
       "      <td>편방</td>\n",
       "      <td>0.2</td>\n",
       "      <td>50</td>\n",
       "      <td>1.5</td>\n",
       "      <td>2018</td>\n",
       "      <td>적색투수콘</td>\n",
       "      <td>표지</td>\n",
       "      <td>2022-01-26</td>\n",
       "    </tr>\n",
       "    <tr>\n",
       "      <th>천호대로</th>\n",
       "      <td>자전거전용차로</td>\n",
       "      <td>군자교</td>\n",
       "      <td>코오롱글로벌빌딩앞</td>\n",
       "      <td>군자교입구</td>\n",
       "      <td>편방</td>\n",
       "      <td>0.3</td>\n",
       "      <td>50</td>\n",
       "      <td>2.2</td>\n",
       "      <td>2010</td>\n",
       "      <td>아스콘</td>\n",
       "      <td>라인</td>\n",
       "      <td>2022-01-26</td>\n",
       "    </tr>\n",
       "    <tr>\n",
       "      <th>자양강변길</th>\n",
       "      <td>자전거우선도로</td>\n",
       "      <td>광양중학교</td>\n",
       "      <td>동일로 경계</td>\n",
       "      <td>뚝섬유원지역</td>\n",
       "      <td>편방</td>\n",
       "      <td>2.74</td>\n",
       "      <td>6</td>\n",
       "      <td>6</td>\n",
       "      <td>2016</td>\n",
       "      <td>아스콘</td>\n",
       "      <td>표지</td>\n",
       "      <td>2022-01-26</td>\n",
       "    </tr>\n",
       "    <tr>\n",
       "      <th>자양로13길</th>\n",
       "      <td>자전거우선도로</td>\n",
       "      <td>자양로13길(자양로93)</td>\n",
       "      <td>뚝섬로 교차지점</td>\n",
       "      <td>자양1동주민센터</td>\n",
       "      <td>양방</td>\n",
       "      <td>0.55(1.1)</td>\n",
       "      <td>9</td>\n",
       "      <td>9</td>\n",
       "      <td>2016</td>\n",
       "      <td>아스콘</td>\n",
       "      <td>표지</td>\n",
       "      <td>2022-01-26</td>\n",
       "    </tr>\n",
       "    <tr>\n",
       "      <th>뚝섬로52길</th>\n",
       "      <td>자전거우선도로</td>\n",
       "      <td>뚝섬로52길(뚝섬로630)</td>\n",
       "      <td>자양유수지 체육시설</td>\n",
       "      <td>경남아파트</td>\n",
       "      <td>양방</td>\n",
       "      <td>0.40(0.8)</td>\n",
       "      <td>9</td>\n",
       "      <td>9</td>\n",
       "      <td>2016</td>\n",
       "      <td>아스콘</td>\n",
       "      <td>표지</td>\n",
       "      <td>2022-01-26</td>\n",
       "    </tr>\n",
       "  </tbody>\n",
       "</table>\n",
       "</div>"
      ],
      "text/plain": [
       "             자전거도로종류              기점             종점         주요경유지  방향  \\\n",
       "노선명                                                                     \n",
       "동일로      자전거및보행자겸용도로          장평교교차로         군자교교차로       중곡빗물펌프장  양방   \n",
       "광나루로56길  자전거및보행자겸용도로           테크노마트     광남중고교입구교차로        프라임아파트  양방   \n",
       "아차산로70길  자전거및보행자겸용도로     광남중고교 입구교차로          광남중입구     한강시민공원연결로  양방   \n",
       "능동로      자전거및보행자겸용도로           용곡삼거리         군자역사거리           중곡역  양방   \n",
       "능동로      자전거및보행자겸용도로          군자역사거리        어린이대공원역         세종대학교  양방   \n",
       "능동로      자전거및보행자겸용도로         어린이대공원역          건대입구역       건국대학교병원  편방   \n",
       "능동로      자전거및보행자겸용도로           건대입구역         뚝섬유원지역          신양초교  편방   \n",
       "광나루로     자전거및보행자겸용도로           화양사거리  어린이대공원역(5번출구)         화양삼거리  편방   \n",
       "광나루로     자전거및보행자겸용도로         어린이대공원역          구의사거리         어린이회관  편방   \n",
       "광나루로     자전거및보행자겸용도로           구의사거리     광진구민방위교육센터    올림픽대교북단교차로  편방   \n",
       "아차산로     자전거및보행자겸용도로           성수사거리          자양사거리         건대입구역  양방   \n",
       "아차산로     자전거및보행자겸용도로           자양사거리     올림픽대교북단교차로           구의역  편방   \n",
       "아차산로     자전거및보행자겸용도로     올림픽대교 북단교차로          광장사거리         극동아파트  양방   \n",
       "아차산로     자전거및보행자겸용도로           광장사거리    장로회신학대학교 입구  광장신동아파밀리에아파트  편방   \n",
       "아차산로     자전거및보행자겸용도로         광진청소년센터     동북아스위트힐아파트       광진구보훈회관  편방   \n",
       "아차산로     자전거및보행자겸용도로         동북아스위트힐         구리시 경계     그랜드워커힐 서울  편방   \n",
       "자양로      자전거및보행자겸용도로        아차산역 교차로          구의사거리          구의2동  편방   \n",
       "자양로      자전거및보행자겸용도로           구의사거리          자양사거리          광진구청  양방   \n",
       "자양로      자전거및보행자겸용도로           자양사거리         잠실대교북단          혜민병원  양방   \n",
       "천호대로     자전거및보행자겸용도로         군자교 교차로          광장사거리          아차산역  편방   \n",
       "천호대로     자전거및보행자겸용도로           광장사거리         군자교교차로          아차산역  편방   \n",
       "구천면로     자전거및보행자겸용도로           광장사거리          광진교북단      광진구민체육센터  편방   \n",
       "긴고랑로     자전거및보행자겸용도로           동곡삼거리          용마사거리       중곡1동사거리  양방   \n",
       "자양번영로    자전거및보행자겸용도로           자양삼거리         신자초등학교        자양1파출소  양방   \n",
       "용마산로     자전거및보행자겸용도로        아차산역 삼거리          중랑구경계         중곡사거리  양방   \n",
       "뚝섬로      자전거및보행자겸용도로      신자초교 입구교차로      잠실대교북단교차로          성자초교  양방   \n",
       "아차산로36길  자전거및보행자겸용도로             이마트        스타시티 C동       스타시티 B동  편방   \n",
       "능동로10길   자전거및보행자겸용도로         스타시티 C동       광진문화예술회관       스타시티 D동  편방   \n",
       "강변역로     자전거및보행자겸용도로       강변역(1번출구)   잠실철교 입구(연결로)           강변역  편방   \n",
       "중랑천          자전거전용도로             장평교            군자교           중랑천  편방   \n",
       "천호대로         자전거전용도로           광장사거리         천호대교북단       극동2차아파트  편방   \n",
       "천호대로         자전거전용차로             군자교      코오롱글로벌빌딩앞         군자교입구  편방   \n",
       "자양강변길        자전거우선도로           광양중학교         동일로 경계        뚝섬유원지역  편방   \n",
       "자양로13길       자전거우선도로   자양로13길(자양로93)       뚝섬로 교차지점      자양1동주민센터  양방   \n",
       "뚝섬로52길       자전거우선도로  뚝섬로52길(뚝섬로630)     자양유수지 체육시설         경남아파트  양방   \n",
       "\n",
       "                총연장  일반도로폭    자전거도로폭       설치연도     도로재질    비고      데이터기준일  \n",
       "노선명                                                                         \n",
       "동일로        1.5(3.0)     30         4       1996     고압블럭    표지  2022-01-26  \n",
       "광나루로56길    0.5(1.0)     35       3.5       1996     고압블럭    표지  2022-01-26  \n",
       "아차산로70길    0.5(1.0)     20  3.0(2.0)       2007     고압블럭    표지  2022-01-26  \n",
       "능동로        1.4(2.8)     25  4.0(2.0)       1999   투수콘/블럭    표지  2022-01-26  \n",
       "능동로        1.2(2.4)     25  4.0(2.0)  1996/2020  투수콘/화강석  라인표지  2022-01-26  \n",
       "능동로            0.85     35  4.0(2.0)  2005/2006     점토블럭    표지  2022-01-26  \n",
       "능동로            0.95     25  4.0(2.0)  2002/2020     점토블럭    표지  2022-01-26  \n",
       "광나루로            0.6     30         4       2015  투수콘/ 블럭    표지  2022-01-26  \n",
       "광나루로              1     30       3.5  1997/2020  투수콘/ 블럭    표지  2022-01-26  \n",
       "광나루로            1.4     30       3.5       1997  투수콘/ 블럭    표지  2022-01-26  \n",
       "아차산로       1.9(3.8)     35         4       1997     고압블럭    표지  2022-01-26  \n",
       "아차산로            1.2     25       3.5       1998     고압블럭    표지  2022-01-26  \n",
       "아차산로      0.85(1.7)     25       3.5       1998     고압블럭    표지  2022-01-26  \n",
       "아차산로           0.39     30       3.5       1998     고압블럭    표지  2022-01-26  \n",
       "아차산로            0.6     30       3.5       2021     고압블럭    표지  2022-01-26  \n",
       "아차산로            0.9     22       2.5       2016      우레탄    표지  2022-01-26  \n",
       "자양로             0.7     30         4       1998     고압블럭    표지  2022-01-26  \n",
       "자양로      0.91(1.82)     30       3.5       2014     고압블럭    표지  2022-01-26  \n",
       "자양로       0.75(1.5)     35         4       1997     고압블럭    표지  2022-01-26  \n",
       "천호대로            2.8     50         6       1998  화강석/ 블럭    표지  2022-01-26  \n",
       "천호대로            3.1     50         6  1998/2020  화강석/ 블럭    표지  2022-01-26  \n",
       "구천면로            0.4  40/22         2       2007    적색투수콘    표지  2022-01-26  \n",
       "긴고랑로     0.52(1.04)     25     4～4.5       1998     고압블럭    표지  2022-01-26  \n",
       "자양번영로     0.95(1.9)     25  4.0(2.0)       1998  투수콘/ 블럭    표지  2022-01-26  \n",
       "용마산로     1.84(3.68)     25         4       1999     고압블럭    표지  2022-01-26  \n",
       "뚝섬로        0.9(1.8)     22         4       1999     고압블럭    표지  2022-01-26  \n",
       "아차산로36길        0.27     27       1.5       2007   초록색우레탄    표지  2022-01-26  \n",
       "능동로10길         0.36     18         2       2007   초록색우레탄    표지  2022-01-26  \n",
       "강변역로            0.2     27  6.0(2.0)       2007     고압블럭    표지  2022-01-26  \n",
       "중랑천             1.6      0         4  2003/2007    적색투수콘    라인  2022-01-26  \n",
       "천호대로            0.2     50       1.5       2018    적색투수콘    표지  2022-01-26  \n",
       "천호대로            0.3     50       2.2       2010      아스콘    라인  2022-01-26  \n",
       "자양강변길          2.74      6         6       2016      아스콘    표지  2022-01-26  \n",
       "자양로13길    0.55(1.1)      9         9       2016      아스콘    표지  2022-01-26  \n",
       "뚝섬로52길    0.40(0.8)      9         9       2016      아스콘    표지  2022-01-26  "
      ]
     },
     "execution_count": 64,
     "metadata": {},
     "output_type": "execute_result"
    }
   ],
   "source": [
    "data2 = pd.read_csv('bicycle_utf8.csv', engine='python', index_col='노선명')\n",
    "data2"
   ]
  },
  {
   "cell_type": "code",
   "execution_count": 65,
   "metadata": {
    "id": "_aS_d-lyzxU4",
    "outputId": "5e5a5e5d-e6f1-4708-ca54-1185c99cf2b8"
   },
   "outputs": [
    {
     "data": {
      "text/plain": [
       "자전거도로종류    자전거및보행자겸용도로\n",
       "기점              장평교교차로\n",
       "종점              군자교교차로\n",
       "주요경유지          중곡빗물펌프장\n",
       "방향                  양방\n",
       "총연장           1.5(3.0)\n",
       "일반도로폭               30\n",
       "자전거도로폭               4\n",
       "설치연도              1996\n",
       "도로재질              고압블럭\n",
       "비고                  표지\n",
       "데이터기준일      2022-01-26\n",
       "Name: 동일로, dtype: object"
      ]
     },
     "execution_count": 65,
     "metadata": {},
     "output_type": "execute_result"
    }
   ],
   "source": [
    "data2.loc['동일로']"
   ]
  },
  {
   "cell_type": "code",
   "execution_count": 67,
   "metadata": {
    "id": "jPBE4EvxzxU5",
    "outputId": "6a5b5ac0-e6b3-45b4-e841-0a7e3a7a50d6"
   },
   "outputs": [
    {
     "data": {
      "text/plain": [
       "자전거도로종류    자전거및보행자겸용도로\n",
       "기점              장평교교차로\n",
       "종점              군자교교차로\n",
       "주요경유지          중곡빗물펌프장\n",
       "Name: 동일로, dtype: object"
      ]
     },
     "execution_count": 67,
     "metadata": {},
     "output_type": "execute_result"
    }
   ],
   "source": [
    "'''\n",
    "함수 만들기\n",
    "노선명을 파람으로 받아서 (자전거도로종류\t기점\t종점\t주요경유지) 정보 반환\n",
    "\n",
    "'''\n",
    "\n",
    "data2.loc['동일로']['자전거도로종류':'주요경유지']"
   ]
  },
  {
   "cell_type": "code",
   "execution_count": 97,
   "metadata": {},
   "outputs": [],
   "source": [
    "def infor(name):\n",
    "    data3 = data2.loc[name].T\n",
    "    return data3.loc['자전거도로종류'].T"
   ]
  },
  {
   "cell_type": "code",
   "execution_count": 85,
   "metadata": {
    "id": "_Ipk-2vtzxU5"
   },
   "outputs": [],
   "source": [
    "def getInfo(name):\n",
    "    data3 = data2.loc[name].T \n",
    "    return data3.loc['자전거도로종류':'주요경유지'].T"
   ]
  },
  {
   "cell_type": "code",
   "execution_count": 98,
   "metadata": {
    "id": "iHCFidLJzxU5",
    "outputId": "29747067-0b4d-4dcb-ceca-6cf0bb098072"
   },
   "outputs": [
    {
     "data": {
      "text/plain": [
       "노선명\n",
       "아차산로    자전거및보행자겸용도로\n",
       "아차산로    자전거및보행자겸용도로\n",
       "아차산로    자전거및보행자겸용도로\n",
       "아차산로    자전거및보행자겸용도로\n",
       "아차산로    자전거및보행자겸용도로\n",
       "아차산로    자전거및보행자겸용도로\n",
       "Name: 자전거도로종류, dtype: object"
      ]
     },
     "execution_count": 98,
     "metadata": {},
     "output_type": "execute_result"
    }
   ],
   "source": [
    "res = infor('아차산로')\n",
    "res"
   ]
  },
  {
   "cell_type": "code",
   "execution_count": null,
   "metadata": {
    "id": "aJZOzthkzxU6",
    "outputId": "22991ecd-6faf-45f4-ce40-256f2e7f8168"
   },
   "outputs": [],
   "source": [
    "res.loc[res.index[0]]"
   ]
  },
  {
   "cell_type": "code",
   "execution_count": null,
   "metadata": {
    "id": "xk5XSy0_zxU6",
    "outputId": "415c1426-8af8-4b94-b109-502e3f721400"
   },
   "outputs": [
    {
     "data": {
      "text/plain": [
       "6"
      ]
     },
     "execution_count": 47,
     "metadata": {},
     "output_type": "execute_result"
    }
   ],
   "source": [
    "res.index.size"
   ]
  },
  {
   "cell_type": "code",
   "execution_count": null,
   "metadata": {
    "id": "V2oum8wSzxU6",
    "outputId": "d98b252e-7abf-46d9-b531-d8a8f13e015f"
   },
   "outputs": [
    {
     "data": {
      "text/plain": [
       "array([['자전거및보행자겸용도로', '성수사거리', '자양사거리', '건대입구역'],\n",
       "       ['자전거및보행자겸용도로', '자양사거리', '올림픽대교북단교차로', '구의역'],\n",
       "       ['자전거및보행자겸용도로', '올림픽대교 북단교차로', '광장사거리', '극동아파트'],\n",
       "       ['자전거및보행자겸용도로', '광장사거리', '장로회신학대학교 입구', '광장신동아파밀리에아파트'],\n",
       "       ['자전거및보행자겸용도로', '광진청소년센터', '동북아스위트힐아파트', '광진구보훈회관'],\n",
       "       ['자전거및보행자겸용도로', '동북아스위트힐', '구리시 경계', '그랜드워커힐 서울']], dtype=object)"
      ]
     },
     "execution_count": 43,
     "metadata": {},
     "output_type": "execute_result"
    }
   ],
   "source": [
    "res.values"
   ]
  },
  {
   "cell_type": "code",
   "execution_count": null,
   "metadata": {
    "id": "3SXSgGJ8zxU7",
    "outputId": "c13c730e-c85d-41c0-d13d-33b9e8c9b555"
   },
   "outputs": [
    {
     "data": {
      "text/plain": [
       "Index(['자전거도로종류', '기점', '종점', '주요경유지'], dtype='object')"
      ]
     },
     "execution_count": 44,
     "metadata": {},
     "output_type": "execute_result"
    }
   ],
   "source": [
    "res.columns"
   ]
  },
  {
   "cell_type": "code",
   "execution_count": null,
   "metadata": {
    "id": "yQ2KlWMyzxU7"
   },
   "outputs": [],
   "source": [
    "def printInfo(name, info):\n",
    "    print('검색된 '+name+' 노선 정보\\n\\n')\n",
    "    cols = info.columns\n",
    "    vals = info.values\n",
    "    for i in vals:\n",
    "        for j in range(0, 4):\n",
    "            print(cols[j], ':', i[j])\n",
    "        print('================')\n",
    "        "
   ]
  },
  {
   "cell_type": "code",
   "execution_count": null,
   "metadata": {
    "id": "ccGF3RtYzxU7",
    "outputId": "df70de11-9a00-4956-d828-3613b1723760"
   },
   "outputs": [
    {
     "name": "stdout",
     "output_type": "stream",
     "text": [
      "검색된 아차산로 노선 정보\n",
      "\n",
      "\n",
      "자전거도로종류 : 자전거및보행자겸용도로\n",
      "기점 : 성수사거리\n",
      "종점 : 자양사거리\n",
      "주요경유지 : 건대입구역\n",
      "================\n",
      "자전거도로종류 : 자전거및보행자겸용도로\n",
      "기점 : 자양사거리\n",
      "종점 : 올림픽대교북단교차로\n",
      "주요경유지 : 구의역\n",
      "================\n",
      "자전거도로종류 : 자전거및보행자겸용도로\n",
      "기점 : 올림픽대교 북단교차로\n",
      "종점 : 광장사거리\n",
      "주요경유지 : 극동아파트\n",
      "================\n",
      "자전거도로종류 : 자전거및보행자겸용도로\n",
      "기점 : 광장사거리\n",
      "종점 : 장로회신학대학교 입구\n",
      "주요경유지 : 광장신동아파밀리에아파트\n",
      "================\n",
      "자전거도로종류 : 자전거및보행자겸용도로\n",
      "기점 : 광진청소년센터\n",
      "종점 : 동북아스위트힐아파트\n",
      "주요경유지 : 광진구보훈회관\n",
      "================\n",
      "자전거도로종류 : 자전거및보행자겸용도로\n",
      "기점 : 동북아스위트힐\n",
      "종점 : 구리시 경계\n",
      "주요경유지 : 그랜드워커힐 서울\n",
      "================\n"
     ]
    }
   ],
   "source": [
    "name = '아차산로'\n",
    "res = getInfo(name)\n",
    "printInfo(name, res)"
   ]
  },
  {
   "cell_type": "code",
   "execution_count": null,
   "metadata": {
    "id": "tMWZu9cWzxU7"
   },
   "outputs": [],
   "source": []
  }
 ],
 "metadata": {
  "colab": {
   "provenance": []
  },
  "kernelspec": {
   "display_name": "Python 3 (ipykernel)",
   "language": "python",
   "name": "python3"
  },
  "language_info": {
   "codemirror_mode": {
    "name": "ipython",
    "version": 3
   },
   "file_extension": ".py",
   "mimetype": "text/x-python",
   "name": "python",
   "nbconvert_exporter": "python",
   "pygments_lexer": "ipython3",
   "version": "3.9.13"
  }
 },
 "nbformat": 4,
 "nbformat_minor": 1
}
